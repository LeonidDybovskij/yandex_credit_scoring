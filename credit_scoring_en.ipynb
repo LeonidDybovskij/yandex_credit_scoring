{
 "cells": [
  {
   "cell_type": "markdown",
   "id": "5e20c6cb",
   "metadata": {},
   "source": [
    "# Credit scoring"
   ]
  },
  {
   "cell_type": "markdown",
   "id": "2300df86",
   "metadata": {},
   "source": [
    "The question is whether the marital status and the number of children of the client affects the fact of repayment of the loan on time. The results of the research will be taken into account when building a model of **credit scoring** — a special system that assesses the ability of a potential borrower to repay the loan to the bank."
   ]
  },
  {
   "cell_type": "markdown",
   "id": "206c6fae",
   "metadata": {},
   "source": [
    "## Data"
   ]
  },
  {
   "cell_type": "markdown",
   "id": "20020b8d",
   "metadata": {},
   "source": [
    "Input data from the bank — statistics on the solvency of clients.\n",
    "- children - number of children in the family\n",
    "- days_employed - total length of service in days\n",
    "- dob_years - client's age in years\n",
    "- education - client's education level\n",
    "- education_id - education level identifier\n",
    "- family_status - marital status\n",
    "- family_status_id - family status identifier\n",
    "- gender - client's gender\n",
    "- income_type - type of employment\n",
    "- debt - whether the client had debts on repayment of loans\n",
    "- total_income - monthly income\n",
    "- purpose - purpose of loan"
   ]
  },
  {
   "cell_type": "code",
   "execution_count": 55,
   "id": "9b59e058",
   "metadata": {},
   "outputs": [],
   "source": [
    "# Importing libraries\n",
    "import pandas as pd\n",
    "import seaborn as sb\n",
    "from scipy import stats\n",
    "import matplotlib.pyplot as plt"
   ]
  },
  {
   "cell_type": "code",
   "execution_count": 56,
   "id": "40683f23",
   "metadata": {},
   "outputs": [],
   "source": [
    "# Retrieving data from a file\n",
    "try:\n",
    "    data = pd.read_csv('data.csv')\n",
    "except:\n",
    "    data = pd.read_csv('/datasets/data.csv')"
   ]
  },
  {
   "cell_type": "code",
   "execution_count": 57,
   "id": "5916e962-8883-42ed-a2c6-3945c535b77f",
   "metadata": {},
   "outputs": [
    {
     "data": {
      "text/html": [
       "<div>\n",
       "<style scoped>\n",
       "    .dataframe tbody tr th:only-of-type {\n",
       "        vertical-align: middle;\n",
       "    }\n",
       "\n",
       "    .dataframe tbody tr th {\n",
       "        vertical-align: top;\n",
       "    }\n",
       "\n",
       "    .dataframe thead th {\n",
       "        text-align: right;\n",
       "    }\n",
       "</style>\n",
       "<table border=\"1\" class=\"dataframe\">\n",
       "  <thead>\n",
       "    <tr style=\"text-align: right;\">\n",
       "      <th></th>\n",
       "      <th>children</th>\n",
       "      <th>days_employed</th>\n",
       "      <th>dob_years</th>\n",
       "      <th>education</th>\n",
       "      <th>education_id</th>\n",
       "      <th>family_status</th>\n",
       "      <th>family_status_id</th>\n",
       "      <th>gender</th>\n",
       "      <th>income_type</th>\n",
       "      <th>debt</th>\n",
       "      <th>total_income</th>\n",
       "      <th>purpose</th>\n",
       "    </tr>\n",
       "  </thead>\n",
       "  <tbody>\n",
       "    <tr>\n",
       "      <th>0</th>\n",
       "      <td>1</td>\n",
       "      <td>-8437.673028</td>\n",
       "      <td>42</td>\n",
       "      <td>higher</td>\n",
       "      <td>0</td>\n",
       "      <td>married</td>\n",
       "      <td>0</td>\n",
       "      <td>F</td>\n",
       "      <td>employee</td>\n",
       "      <td>0</td>\n",
       "      <td>253875.639453</td>\n",
       "      <td>buying a house</td>\n",
       "    </tr>\n",
       "    <tr>\n",
       "      <th>1</th>\n",
       "      <td>1</td>\n",
       "      <td>-4024.803754</td>\n",
       "      <td>36</td>\n",
       "      <td>secondary</td>\n",
       "      <td>1</td>\n",
       "      <td>married</td>\n",
       "      <td>0</td>\n",
       "      <td>F</td>\n",
       "      <td>employee</td>\n",
       "      <td>0</td>\n",
       "      <td>112080.014102</td>\n",
       "      <td>buying a car</td>\n",
       "    </tr>\n",
       "    <tr>\n",
       "      <th>2</th>\n",
       "      <td>0</td>\n",
       "      <td>-5623.422610</td>\n",
       "      <td>33</td>\n",
       "      <td>Secondary</td>\n",
       "      <td>1</td>\n",
       "      <td>married</td>\n",
       "      <td>0</td>\n",
       "      <td>M</td>\n",
       "      <td>employee</td>\n",
       "      <td>0</td>\n",
       "      <td>145885.952297</td>\n",
       "      <td>buying a house</td>\n",
       "    </tr>\n",
       "    <tr>\n",
       "      <th>3</th>\n",
       "      <td>3</td>\n",
       "      <td>-4124.747207</td>\n",
       "      <td>32</td>\n",
       "      <td>secondary</td>\n",
       "      <td>1</td>\n",
       "      <td>married</td>\n",
       "      <td>0</td>\n",
       "      <td>M</td>\n",
       "      <td>employee</td>\n",
       "      <td>0</td>\n",
       "      <td>267628.550329</td>\n",
       "      <td>additional education</td>\n",
       "    </tr>\n",
       "    <tr>\n",
       "      <th>4</th>\n",
       "      <td>0</td>\n",
       "      <td>340266.072047</td>\n",
       "      <td>53</td>\n",
       "      <td>secondary</td>\n",
       "      <td>1</td>\n",
       "      <td>civil marriage</td>\n",
       "      <td>1</td>\n",
       "      <td>F</td>\n",
       "      <td>pensioner</td>\n",
       "      <td>0</td>\n",
       "      <td>158616.077870</td>\n",
       "      <td>to perform a wedding</td>\n",
       "    </tr>\n",
       "    <tr>\n",
       "      <th>5</th>\n",
       "      <td>0</td>\n",
       "      <td>-926.185831</td>\n",
       "      <td>27</td>\n",
       "      <td>higher</td>\n",
       "      <td>0</td>\n",
       "      <td>civil marriage</td>\n",
       "      <td>1</td>\n",
       "      <td>M</td>\n",
       "      <td>partner</td>\n",
       "      <td>0</td>\n",
       "      <td>255763.565419</td>\n",
       "      <td>buying a house</td>\n",
       "    </tr>\n",
       "    <tr>\n",
       "      <th>6</th>\n",
       "      <td>0</td>\n",
       "      <td>-2879.202052</td>\n",
       "      <td>43</td>\n",
       "      <td>higher</td>\n",
       "      <td>0</td>\n",
       "      <td>married</td>\n",
       "      <td>0</td>\n",
       "      <td>F</td>\n",
       "      <td>partner</td>\n",
       "      <td>0</td>\n",
       "      <td>240525.971920</td>\n",
       "      <td>housing transactions</td>\n",
       "    </tr>\n",
       "    <tr>\n",
       "      <th>7</th>\n",
       "      <td>0</td>\n",
       "      <td>-152.779569</td>\n",
       "      <td>50</td>\n",
       "      <td>SECONDARY</td>\n",
       "      <td>1</td>\n",
       "      <td>married</td>\n",
       "      <td>0</td>\n",
       "      <td>M</td>\n",
       "      <td>employee</td>\n",
       "      <td>0</td>\n",
       "      <td>135823.934197</td>\n",
       "      <td>education</td>\n",
       "    </tr>\n",
       "    <tr>\n",
       "      <th>8</th>\n",
       "      <td>2</td>\n",
       "      <td>-6929.865299</td>\n",
       "      <td>35</td>\n",
       "      <td>HIGHER</td>\n",
       "      <td>0</td>\n",
       "      <td>civil marriage</td>\n",
       "      <td>1</td>\n",
       "      <td>F</td>\n",
       "      <td>employee</td>\n",
       "      <td>0</td>\n",
       "      <td>95856.832424</td>\n",
       "      <td>to host a wedding</td>\n",
       "    </tr>\n",
       "    <tr>\n",
       "      <th>9</th>\n",
       "      <td>0</td>\n",
       "      <td>-2188.756445</td>\n",
       "      <td>41</td>\n",
       "      <td>secondary</td>\n",
       "      <td>1</td>\n",
       "      <td>married</td>\n",
       "      <td>0</td>\n",
       "      <td>M</td>\n",
       "      <td>employee</td>\n",
       "      <td>0</td>\n",
       "      <td>144425.938277</td>\n",
       "      <td>family home purchase</td>\n",
       "    </tr>\n",
       "  </tbody>\n",
       "</table>\n",
       "</div>"
      ],
      "text/plain": [
       "   children  days_employed  dob_years  education  education_id  \\\n",
       "0         1   -8437.673028         42     higher             0   \n",
       "1         1   -4024.803754         36  secondary             1   \n",
       "2         0   -5623.422610         33  Secondary             1   \n",
       "3         3   -4124.747207         32  secondary             1   \n",
       "4         0  340266.072047         53  secondary             1   \n",
       "5         0    -926.185831         27     higher             0   \n",
       "6         0   -2879.202052         43     higher             0   \n",
       "7         0    -152.779569         50  SECONDARY             1   \n",
       "8         2   -6929.865299         35     HIGHER             0   \n",
       "9         0   -2188.756445         41  secondary             1   \n",
       "\n",
       "    family_status  family_status_id gender income_type  debt   total_income  \\\n",
       "0         married                 0      F    employee     0  253875.639453   \n",
       "1         married                 0      F    employee     0  112080.014102   \n",
       "2         married                 0      M    employee     0  145885.952297   \n",
       "3         married                 0      M    employee     0  267628.550329   \n",
       "4  civil marriage                 1      F   pensioner     0  158616.077870   \n",
       "5  civil marriage                 1      M     partner     0  255763.565419   \n",
       "6         married                 0      F     partner     0  240525.971920   \n",
       "7         married                 0      M    employee     0  135823.934197   \n",
       "8  civil marriage                 1      F    employee     0   95856.832424   \n",
       "9         married                 0      M    employee     0  144425.938277   \n",
       "\n",
       "                purpose  \n",
       "0        buying a house  \n",
       "1          buying a car  \n",
       "2        buying a house  \n",
       "3  additional education  \n",
       "4  to perform a wedding  \n",
       "5        buying a house  \n",
       "6  housing transactions  \n",
       "7             education  \n",
       "8     to host a wedding  \n",
       "9  family home purchase  "
      ]
     },
     "execution_count": 57,
     "metadata": {},
     "output_type": "execute_result"
    }
   ],
   "source": [
    "data.head(10)"
   ]
  },
  {
   "cell_type": "code",
   "execution_count": 58,
   "id": "9c1fbfc1",
   "metadata": {},
   "outputs": [
    {
     "name": "stdout",
     "output_type": "stream",
     "text": [
      "<class 'pandas.core.frame.DataFrame'>\n",
      "RangeIndex: 21525 entries, 0 to 21524\n",
      "Data columns (total 12 columns):\n",
      " #   Column            Non-Null Count  Dtype  \n",
      "---  ------            --------------  -----  \n",
      " 0   children          21525 non-null  int64  \n",
      " 1   days_employed     19351 non-null  float64\n",
      " 2   dob_years         21525 non-null  int64  \n",
      " 3   education         21525 non-null  object \n",
      " 4   education_id      21525 non-null  int64  \n",
      " 5   family_status     21525 non-null  object \n",
      " 6   family_status_id  21525 non-null  int64  \n",
      " 7   gender            21525 non-null  object \n",
      " 8   income_type       21525 non-null  object \n",
      " 9   debt              21525 non-null  int64  \n",
      " 10  total_income      19351 non-null  float64\n",
      " 11  purpose           21525 non-null  object \n",
      "dtypes: float64(2), int64(5), object(5)\n",
      "memory usage: 2.0+ MB\n"
     ]
    }
   ],
   "source": [
    "data.info()"
   ]
  },
  {
   "cell_type": "markdown",
   "id": "12e74d93",
   "metadata": {},
   "source": [
    "## Data preprocessing"
   ]
  },
  {
   "cell_type": "markdown",
   "id": "39e159e9",
   "metadata": {},
   "source": [
    "- The column names correspond to the universal form.\n",
    "- The nature of fractional numbers in the days_employed and total_income columns is unclear.\n",
    "- Negative numbers and outliers occur in the `days_employed` column."
   ]
  },
  {
   "cell_type": "markdown",
   "id": "4b468c15",
   "metadata": {},
   "source": [
    "### Filling gaps in the dataframe"
   ]
  },
  {
   "cell_type": "code",
   "execution_count": 59,
   "id": "bf0b600f",
   "metadata": {},
   "outputs": [
    {
     "name": "stdout",
     "output_type": "stream",
     "text": [
      "children               0\n",
      "days_employed       2174\n",
      "dob_years              0\n",
      "education              0\n",
      "education_id           0\n",
      "family_status          0\n",
      "family_status_id       0\n",
      "gender                 0\n",
      "income_type            0\n",
      "debt                   0\n",
      "total_income        2174\n",
      "purpose                0\n",
      "dtype: int64\n"
     ]
    }
   ],
   "source": [
    "# Looking for gaps in the numbers\n",
    "print(data.isna().sum())"
   ]
  },
  {
   "cell_type": "markdown",
   "id": "f114d37a",
   "metadata": {},
   "source": [
    "<a id='match'></a>"
   ]
  },
  {
   "cell_type": "code",
   "execution_count": 60,
   "id": "d497a505",
   "metadata": {},
   "outputs": [
    {
     "name": "stdout",
     "output_type": "stream",
     "text": [
      "True\n"
     ]
    }
   ],
   "source": [
    "print(data.loc[data['days_employed'].isna()].index.to_list()\\\n",
    "      == data.loc[data['total_income'].isna()].index.to_list()) "
   ]
  },
  {
   "cell_type": "markdown",
   "id": "f4ba6e9a",
   "metadata": {},
   "source": [
    "From which we can conclude that the missing values in the two columns are matched row-wise."
   ]
  },
  {
   "cell_type": "code",
   "execution_count": 61,
   "id": "d403bf4c",
   "metadata": {},
   "outputs": [],
   "source": [
    "gaps = data.loc[data['total_income'].isna()]"
   ]
  },
  {
   "cell_type": "markdown",
   "id": "4bdd9ee6",
   "metadata": {},
   "source": [
    "The income amount is most strongly influenced by employment type, so we can replace the gaps in the income amount with the median value for each type from the `income_type` column."
   ]
  },
  {
   "cell_type": "code",
   "execution_count": 62,
   "id": "e0bb69f6",
   "metadata": {},
   "outputs": [
    {
     "name": "stdout",
     "output_type": "stream",
     "text": [
      "employee              11119\n",
      "partner                5085\n",
      "pensioner              3856\n",
      "civil servant          1459\n",
      "unemployed                2\n",
      "entrepreneur              2\n",
      "student                   1\n",
      "on maternity leave        1\n",
      "Name: income_type, dtype: int64\n"
     ]
    }
   ],
   "source": [
    "print(data['income_type'].value_counts())"
   ]
  },
  {
   "cell_type": "code",
   "execution_count": 63,
   "id": "3ea33ad9",
   "metadata": {},
   "outputs": [
    {
     "name": "stdout",
     "output_type": "stream",
     "text": [
      "2173\n",
      "169846.427535    1\n",
      "105864.256244    1\n",
      "228945.563612    1\n",
      "72439.940645     1\n",
      "132641.540844    1\n",
      "                ..\n",
      "155107.752145    1\n",
      "160528.666287    1\n",
      "160885.050715    1\n",
      "100180.178296    1\n",
      "189255.286637    1\n",
      "Name: total_income, Length: 19351, dtype: int64\n"
     ]
    }
   ],
   "source": [
    "print(data['total_income'].duplicated().sum())\n",
    "print(data['total_income'].value_counts())"
   ]
  },
  {
   "cell_type": "code",
   "execution_count": 64,
   "id": "b12c098b",
   "metadata": {},
   "outputs": [
    {
     "name": "stdout",
     "output_type": "stream",
     "text": [
      "children               0\n",
      "days_employed       2174\n",
      "dob_years              0\n",
      "education              0\n",
      "education_id           0\n",
      "family_status          0\n",
      "family_status_id       0\n",
      "gender                 0\n",
      "income_type            0\n",
      "debt                   0\n",
      "total_income           0\n",
      "purpose                0\n",
      "dtype: int64\n"
     ]
    }
   ],
   "source": [
    "# Filling gaps in income with medians\n",
    "data['total_income'] = data.groupby('income_type')['total_income']\\\n",
    ".transform(lambda x: x.fillna(x.median())) #  By default, skips NaN when counting\n",
    "print(data.isna().sum())"
   ]
  },
  {
   "cell_type": "code",
   "execution_count": 65,
   "id": "70a67872",
   "metadata": {
    "scrolled": true
   },
   "outputs": [
    {
     "name": "stdout",
     "output_type": "stream",
     "text": [
      "2172\n",
      "142594.396847    1105\n",
      "172357.950966     509\n",
      "118514.486412     414\n",
      "150447.935283     147\n",
      "499163.144947       2\n",
      "                 ... \n",
      "160528.666287       1\n",
      "160885.050715       1\n",
      "100180.178296       1\n",
      "135607.236400       1\n",
      "189255.286637       1\n",
      "Name: total_income, Length: 19353, dtype: int64\n"
     ]
    }
   ],
   "source": [
    "print(data['total_income'].duplicated().sum())\n",
    "print(data['total_income'].value_counts())"
   ]
  },
  {
   "cell_type": "markdown",
   "id": "a03c7211",
   "metadata": {},
   "source": [
    "These are the medians on the top."
   ]
  },
  {
   "cell_type": "markdown",
   "id": "dcbb21d2",
   "metadata": {},
   "source": [
    "Let's now examine the missing values in days of employment history."
   ]
  },
  {
   "cell_type": "code",
   "execution_count": 66,
   "id": "3da0f374",
   "metadata": {},
   "outputs": [
    {
     "name": "stdout",
     "output_type": "stream",
     "text": [
      "2173\n",
      "-327.685916       1\n",
      " 375163.886753    1\n",
      "-488.619642       1\n",
      " 361900.083341    1\n",
      "-4122.460569      1\n",
      "                 ..\n",
      "-667.873467       1\n",
      "-1327.503350      1\n",
      "-3347.946979      1\n",
      "-871.839943       1\n",
      "-3382.113891      1\n",
      "Name: days_employed, Length: 19351, dtype: int64\n",
      "-18388.949901     1\n",
      "-17615.563266     1\n",
      "-16593.472817     1\n",
      "-16264.699501     1\n",
      "-16119.687737     1\n",
      "                 ..\n",
      " 401663.850046    1\n",
      " 401674.466633    1\n",
      " 401675.093434    1\n",
      " 401715.811749    1\n",
      " 401755.400475    1\n",
      "Name: days_employed, Length: 19351, dtype: int64\n"
     ]
    }
   ],
   "source": [
    "print(data['days_employed'].duplicated().sum())\n",
    "print(data['days_employed'].value_counts())\n",
    "print(data['days_employed'].value_counts().sort_index())"
   ]
  },
  {
   "cell_type": "markdown",
   "id": "57d9d0ee",
   "metadata": {},
   "source": [
    "Artifacts among the numbers in the `days_employed` column include:\n",
    "- negative numbers\n",
    "- abnormally high numbers (1100 years is steep even for pensioners)\n",
    "\n",
    "It is still unclear why the length of service is fractional. I can't help feeling that the `random.random()` method is involved in the process of obtaining data in the `days_employed` and `total_income` columns."
   ]
  },
  {
   "cell_type": "markdown",
   "id": "cecb88e9",
   "metadata": {},
   "source": [
    "Let's change the sign of negative numbers:"
   ]
  },
  {
   "cell_type": "code",
   "execution_count": 67,
   "id": "42c01477",
   "metadata": {},
   "outputs": [
    {
     "data": {
      "text/html": [
       "<div>\n",
       "<style scoped>\n",
       "    .dataframe tbody tr th:only-of-type {\n",
       "        vertical-align: middle;\n",
       "    }\n",
       "\n",
       "    .dataframe tbody tr th {\n",
       "        vertical-align: top;\n",
       "    }\n",
       "\n",
       "    .dataframe thead th {\n",
       "        text-align: right;\n",
       "    }\n",
       "</style>\n",
       "<table border=\"1\" class=\"dataframe\">\n",
       "  <thead>\n",
       "    <tr style=\"text-align: right;\">\n",
       "      <th></th>\n",
       "      <th>children</th>\n",
       "      <th>days_employed</th>\n",
       "      <th>dob_years</th>\n",
       "      <th>education</th>\n",
       "      <th>education_id</th>\n",
       "      <th>family_status</th>\n",
       "      <th>family_status_id</th>\n",
       "      <th>gender</th>\n",
       "      <th>income_type</th>\n",
       "      <th>debt</th>\n",
       "      <th>total_income</th>\n",
       "      <th>purpose</th>\n",
       "    </tr>\n",
       "  </thead>\n",
       "  <tbody>\n",
       "    <tr>\n",
       "      <th>0</th>\n",
       "      <td>1</td>\n",
       "      <td>8437.673028</td>\n",
       "      <td>42</td>\n",
       "      <td>higher</td>\n",
       "      <td>0</td>\n",
       "      <td>married</td>\n",
       "      <td>0</td>\n",
       "      <td>F</td>\n",
       "      <td>employee</td>\n",
       "      <td>0</td>\n",
       "      <td>253875.639453</td>\n",
       "      <td>buying a house</td>\n",
       "    </tr>\n",
       "    <tr>\n",
       "      <th>1</th>\n",
       "      <td>1</td>\n",
       "      <td>4024.803754</td>\n",
       "      <td>36</td>\n",
       "      <td>secondary</td>\n",
       "      <td>1</td>\n",
       "      <td>married</td>\n",
       "      <td>0</td>\n",
       "      <td>F</td>\n",
       "      <td>employee</td>\n",
       "      <td>0</td>\n",
       "      <td>112080.014102</td>\n",
       "      <td>buying a car</td>\n",
       "    </tr>\n",
       "    <tr>\n",
       "      <th>2</th>\n",
       "      <td>0</td>\n",
       "      <td>5623.422610</td>\n",
       "      <td>33</td>\n",
       "      <td>Secondary</td>\n",
       "      <td>1</td>\n",
       "      <td>married</td>\n",
       "      <td>0</td>\n",
       "      <td>M</td>\n",
       "      <td>employee</td>\n",
       "      <td>0</td>\n",
       "      <td>145885.952297</td>\n",
       "      <td>buying a house</td>\n",
       "    </tr>\n",
       "    <tr>\n",
       "      <th>3</th>\n",
       "      <td>3</td>\n",
       "      <td>4124.747207</td>\n",
       "      <td>32</td>\n",
       "      <td>secondary</td>\n",
       "      <td>1</td>\n",
       "      <td>married</td>\n",
       "      <td>0</td>\n",
       "      <td>M</td>\n",
       "      <td>employee</td>\n",
       "      <td>0</td>\n",
       "      <td>267628.550329</td>\n",
       "      <td>additional education</td>\n",
       "    </tr>\n",
       "    <tr>\n",
       "      <th>4</th>\n",
       "      <td>0</td>\n",
       "      <td>340266.072047</td>\n",
       "      <td>53</td>\n",
       "      <td>secondary</td>\n",
       "      <td>1</td>\n",
       "      <td>civil marriage</td>\n",
       "      <td>1</td>\n",
       "      <td>F</td>\n",
       "      <td>pensioner</td>\n",
       "      <td>0</td>\n",
       "      <td>158616.077870</td>\n",
       "      <td>to perform a wedding</td>\n",
       "    </tr>\n",
       "    <tr>\n",
       "      <th>5</th>\n",
       "      <td>0</td>\n",
       "      <td>926.185831</td>\n",
       "      <td>27</td>\n",
       "      <td>higher</td>\n",
       "      <td>0</td>\n",
       "      <td>civil marriage</td>\n",
       "      <td>1</td>\n",
       "      <td>M</td>\n",
       "      <td>partner</td>\n",
       "      <td>0</td>\n",
       "      <td>255763.565419</td>\n",
       "      <td>buying a house</td>\n",
       "    </tr>\n",
       "    <tr>\n",
       "      <th>6</th>\n",
       "      <td>0</td>\n",
       "      <td>2879.202052</td>\n",
       "      <td>43</td>\n",
       "      <td>higher</td>\n",
       "      <td>0</td>\n",
       "      <td>married</td>\n",
       "      <td>0</td>\n",
       "      <td>F</td>\n",
       "      <td>partner</td>\n",
       "      <td>0</td>\n",
       "      <td>240525.971920</td>\n",
       "      <td>housing transactions</td>\n",
       "    </tr>\n",
       "    <tr>\n",
       "      <th>7</th>\n",
       "      <td>0</td>\n",
       "      <td>152.779569</td>\n",
       "      <td>50</td>\n",
       "      <td>SECONDARY</td>\n",
       "      <td>1</td>\n",
       "      <td>married</td>\n",
       "      <td>0</td>\n",
       "      <td>M</td>\n",
       "      <td>employee</td>\n",
       "      <td>0</td>\n",
       "      <td>135823.934197</td>\n",
       "      <td>education</td>\n",
       "    </tr>\n",
       "    <tr>\n",
       "      <th>8</th>\n",
       "      <td>2</td>\n",
       "      <td>6929.865299</td>\n",
       "      <td>35</td>\n",
       "      <td>HIGHER</td>\n",
       "      <td>0</td>\n",
       "      <td>civil marriage</td>\n",
       "      <td>1</td>\n",
       "      <td>F</td>\n",
       "      <td>employee</td>\n",
       "      <td>0</td>\n",
       "      <td>95856.832424</td>\n",
       "      <td>to host a wedding</td>\n",
       "    </tr>\n",
       "    <tr>\n",
       "      <th>9</th>\n",
       "      <td>0</td>\n",
       "      <td>2188.756445</td>\n",
       "      <td>41</td>\n",
       "      <td>secondary</td>\n",
       "      <td>1</td>\n",
       "      <td>married</td>\n",
       "      <td>0</td>\n",
       "      <td>M</td>\n",
       "      <td>employee</td>\n",
       "      <td>0</td>\n",
       "      <td>144425.938277</td>\n",
       "      <td>family home purchase</td>\n",
       "    </tr>\n",
       "  </tbody>\n",
       "</table>\n",
       "</div>"
      ],
      "text/plain": [
       "   children  days_employed  dob_years  education  education_id  \\\n",
       "0         1    8437.673028         42     higher             0   \n",
       "1         1    4024.803754         36  secondary             1   \n",
       "2         0    5623.422610         33  Secondary             1   \n",
       "3         3    4124.747207         32  secondary             1   \n",
       "4         0  340266.072047         53  secondary             1   \n",
       "5         0     926.185831         27     higher             0   \n",
       "6         0    2879.202052         43     higher             0   \n",
       "7         0     152.779569         50  SECONDARY             1   \n",
       "8         2    6929.865299         35     HIGHER             0   \n",
       "9         0    2188.756445         41  secondary             1   \n",
       "\n",
       "    family_status  family_status_id gender income_type  debt   total_income  \\\n",
       "0         married                 0      F    employee     0  253875.639453   \n",
       "1         married                 0      F    employee     0  112080.014102   \n",
       "2         married                 0      M    employee     0  145885.952297   \n",
       "3         married                 0      M    employee     0  267628.550329   \n",
       "4  civil marriage                 1      F   pensioner     0  158616.077870   \n",
       "5  civil marriage                 1      M     partner     0  255763.565419   \n",
       "6         married                 0      F     partner     0  240525.971920   \n",
       "7         married                 0      M    employee     0  135823.934197   \n",
       "8  civil marriage                 1      F    employee     0   95856.832424   \n",
       "9         married                 0      M    employee     0  144425.938277   \n",
       "\n",
       "                purpose  \n",
       "0        buying a house  \n",
       "1          buying a car  \n",
       "2        buying a house  \n",
       "3  additional education  \n",
       "4  to perform a wedding  \n",
       "5        buying a house  \n",
       "6  housing transactions  \n",
       "7             education  \n",
       "8     to host a wedding  \n",
       "9  family home purchase  "
      ]
     },
     "execution_count": 67,
     "metadata": {},
     "output_type": "execute_result"
    }
   ],
   "source": [
    "# Fixing artifacts in the days_employed column: change signs\n",
    "data['days_employed'] = abs(data['days_employed'])\n",
    "data.head(10)"
   ]
  },
  {
   "cell_type": "code",
   "execution_count": 68,
   "id": "1f30aeaf",
   "metadata": {},
   "outputs": [
    {
     "name": "stdout",
     "output_type": "stream",
     "text": [
      "income_type\n",
      "civil servant           2689.368353\n",
      "employee                1574.202821\n",
      "entrepreneur             520.848083\n",
      "on maternity leave      3296.759962\n",
      "partner                 1547.382223\n",
      "pensioner             365213.306266\n",
      "student                  578.751554\n",
      "unemployed            366413.652744\n",
      "Name: days_employed, dtype: float64\n"
     ]
    }
   ],
   "source": [
    "# Estimating labor histories by employment type by median:\n",
    "print(data.groupby('income_type')['days_employed'].median())"
   ]
  },
  {
   "cell_type": "markdown",
   "id": "2c158a0e",
   "metadata": {},
   "source": [
    "Awe-inspiring numbers."
   ]
  },
  {
   "cell_type": "code",
   "execution_count": 69,
   "id": "e4832933",
   "metadata": {},
   "outputs": [
    {
     "name": "stdout",
     "output_type": "stream",
     "text": [
      "[ 1  0  3  2 -1  4 20  5]\n"
     ]
    }
   ],
   "source": [
    "print(data['children'].unique())"
   ]
  },
  {
   "cell_type": "code",
   "execution_count": 70,
   "id": "a87e34e9",
   "metadata": {},
   "outputs": [
    {
     "data": {
      "text/html": [
       "<div>\n",
       "<style scoped>\n",
       "    .dataframe tbody tr th:only-of-type {\n",
       "        vertical-align: middle;\n",
       "    }\n",
       "\n",
       "    .dataframe tbody tr th {\n",
       "        vertical-align: top;\n",
       "    }\n",
       "\n",
       "    .dataframe thead th {\n",
       "        text-align: right;\n",
       "    }\n",
       "</style>\n",
       "<table border=\"1\" class=\"dataframe\">\n",
       "  <thead>\n",
       "    <tr style=\"text-align: right;\">\n",
       "      <th></th>\n",
       "      <th>children</th>\n",
       "      <th>days_employed</th>\n",
       "      <th>dob_years</th>\n",
       "      <th>education</th>\n",
       "      <th>education_id</th>\n",
       "      <th>family_status</th>\n",
       "      <th>family_status_id</th>\n",
       "      <th>gender</th>\n",
       "      <th>income_type</th>\n",
       "      <th>debt</th>\n",
       "      <th>total_income</th>\n",
       "      <th>purpose</th>\n",
       "    </tr>\n",
       "  </thead>\n",
       "  <tbody>\n",
       "    <tr>\n",
       "      <th>291</th>\n",
       "      <td>-1</td>\n",
       "      <td>4417.703588</td>\n",
       "      <td>46</td>\n",
       "      <td>secondary</td>\n",
       "      <td>1</td>\n",
       "      <td>civil marriage</td>\n",
       "      <td>1</td>\n",
       "      <td>F</td>\n",
       "      <td>employee</td>\n",
       "      <td>0</td>\n",
       "      <td>102816.346412</td>\n",
       "      <td>specialized education</td>\n",
       "    </tr>\n",
       "    <tr>\n",
       "      <th>705</th>\n",
       "      <td>-1</td>\n",
       "      <td>902.084528</td>\n",
       "      <td>50</td>\n",
       "      <td>secondary</td>\n",
       "      <td>1</td>\n",
       "      <td>married</td>\n",
       "      <td>0</td>\n",
       "      <td>F</td>\n",
       "      <td>civil servant</td>\n",
       "      <td>0</td>\n",
       "      <td>137882.899271</td>\n",
       "      <td>buying a car</td>\n",
       "    </tr>\n",
       "    <tr>\n",
       "      <th>742</th>\n",
       "      <td>-1</td>\n",
       "      <td>3174.456205</td>\n",
       "      <td>57</td>\n",
       "      <td>secondary</td>\n",
       "      <td>1</td>\n",
       "      <td>married</td>\n",
       "      <td>0</td>\n",
       "      <td>F</td>\n",
       "      <td>employee</td>\n",
       "      <td>0</td>\n",
       "      <td>64268.044444</td>\n",
       "      <td>additional education</td>\n",
       "    </tr>\n",
       "    <tr>\n",
       "      <th>800</th>\n",
       "      <td>-1</td>\n",
       "      <td>349987.852217</td>\n",
       "      <td>54</td>\n",
       "      <td>secondary</td>\n",
       "      <td>1</td>\n",
       "      <td>single</td>\n",
       "      <td>4</td>\n",
       "      <td>F</td>\n",
       "      <td>pensioner</td>\n",
       "      <td>0</td>\n",
       "      <td>86293.724153</td>\n",
       "      <td>additional education</td>\n",
       "    </tr>\n",
       "    <tr>\n",
       "      <th>941</th>\n",
       "      <td>-1</td>\n",
       "      <td>NaN</td>\n",
       "      <td>57</td>\n",
       "      <td>Secondary</td>\n",
       "      <td>1</td>\n",
       "      <td>married</td>\n",
       "      <td>0</td>\n",
       "      <td>F</td>\n",
       "      <td>pensioner</td>\n",
       "      <td>0</td>\n",
       "      <td>118514.486412</td>\n",
       "      <td>to buy your own car</td>\n",
       "    </tr>\n",
       "    <tr>\n",
       "      <th>1363</th>\n",
       "      <td>-1</td>\n",
       "      <td>1195.264956</td>\n",
       "      <td>55</td>\n",
       "      <td>SECONDARY</td>\n",
       "      <td>1</td>\n",
       "      <td>married</td>\n",
       "      <td>0</td>\n",
       "      <td>F</td>\n",
       "      <td>partner</td>\n",
       "      <td>0</td>\n",
       "      <td>69550.699692</td>\n",
       "      <td>specialized education</td>\n",
       "    </tr>\n",
       "    <tr>\n",
       "      <th>1929</th>\n",
       "      <td>-1</td>\n",
       "      <td>1461.303336</td>\n",
       "      <td>38</td>\n",
       "      <td>secondary</td>\n",
       "      <td>1</td>\n",
       "      <td>single</td>\n",
       "      <td>4</td>\n",
       "      <td>M</td>\n",
       "      <td>employee</td>\n",
       "      <td>0</td>\n",
       "      <td>109121.569013</td>\n",
       "      <td>buying a house</td>\n",
       "    </tr>\n",
       "    <tr>\n",
       "      <th>2073</th>\n",
       "      <td>-1</td>\n",
       "      <td>2539.761232</td>\n",
       "      <td>42</td>\n",
       "      <td>secondary</td>\n",
       "      <td>1</td>\n",
       "      <td>divorced</td>\n",
       "      <td>3</td>\n",
       "      <td>F</td>\n",
       "      <td>partner</td>\n",
       "      <td>0</td>\n",
       "      <td>162638.609373</td>\n",
       "      <td>buying a house</td>\n",
       "    </tr>\n",
       "    <tr>\n",
       "      <th>3814</th>\n",
       "      <td>-1</td>\n",
       "      <td>3045.290443</td>\n",
       "      <td>26</td>\n",
       "      <td>Secondary</td>\n",
       "      <td>1</td>\n",
       "      <td>civil marriage</td>\n",
       "      <td>1</td>\n",
       "      <td>F</td>\n",
       "      <td>civil servant</td>\n",
       "      <td>0</td>\n",
       "      <td>131892.785435</td>\n",
       "      <td>to host a wedding</td>\n",
       "    </tr>\n",
       "    <tr>\n",
       "      <th>4201</th>\n",
       "      <td>-1</td>\n",
       "      <td>901.101738</td>\n",
       "      <td>41</td>\n",
       "      <td>secondary</td>\n",
       "      <td>1</td>\n",
       "      <td>married</td>\n",
       "      <td>0</td>\n",
       "      <td>F</td>\n",
       "      <td>civil servant</td>\n",
       "      <td>0</td>\n",
       "      <td>226375.766751</td>\n",
       "      <td>own real estate transactions</td>\n",
       "    </tr>\n",
       "    <tr>\n",
       "      <th>4402</th>\n",
       "      <td>-1</td>\n",
       "      <td>398001.302888</td>\n",
       "      <td>64</td>\n",
       "      <td>SECONDARY</td>\n",
       "      <td>1</td>\n",
       "      <td>married</td>\n",
       "      <td>0</td>\n",
       "      <td>F</td>\n",
       "      <td>pensioner</td>\n",
       "      <td>0</td>\n",
       "      <td>163264.062064</td>\n",
       "      <td>real estate purchase</td>\n",
       "    </tr>\n",
       "    <tr>\n",
       "      <th>4542</th>\n",
       "      <td>-1</td>\n",
       "      <td>1811.899756</td>\n",
       "      <td>32</td>\n",
       "      <td>secondary</td>\n",
       "      <td>1</td>\n",
       "      <td>married</td>\n",
       "      <td>0</td>\n",
       "      <td>F</td>\n",
       "      <td>employee</td>\n",
       "      <td>0</td>\n",
       "      <td>160544.718446</td>\n",
       "      <td>education</td>\n",
       "    </tr>\n",
       "    <tr>\n",
       "      <th>5272</th>\n",
       "      <td>-1</td>\n",
       "      <td>1143.485347</td>\n",
       "      <td>46</td>\n",
       "      <td>secondary</td>\n",
       "      <td>1</td>\n",
       "      <td>widowed</td>\n",
       "      <td>2</td>\n",
       "      <td>F</td>\n",
       "      <td>employee</td>\n",
       "      <td>0</td>\n",
       "      <td>278708.018820</td>\n",
       "      <td>real estate purchase</td>\n",
       "    </tr>\n",
       "    <tr>\n",
       "      <th>6013</th>\n",
       "      <td>-1</td>\n",
       "      <td>1361.258696</td>\n",
       "      <td>46</td>\n",
       "      <td>higher</td>\n",
       "      <td>0</td>\n",
       "      <td>married</td>\n",
       "      <td>0</td>\n",
       "      <td>F</td>\n",
       "      <td>employee</td>\n",
       "      <td>0</td>\n",
       "      <td>143008.454914</td>\n",
       "      <td>building your own real estate</td>\n",
       "    </tr>\n",
       "    <tr>\n",
       "      <th>6385</th>\n",
       "      <td>-1</td>\n",
       "      <td>370215.476226</td>\n",
       "      <td>48</td>\n",
       "      <td>secondary</td>\n",
       "      <td>1</td>\n",
       "      <td>widowed</td>\n",
       "      <td>2</td>\n",
       "      <td>F</td>\n",
       "      <td>pensioner</td>\n",
       "      <td>0</td>\n",
       "      <td>36052.447435</td>\n",
       "      <td>education</td>\n",
       "    </tr>\n",
       "    <tr>\n",
       "      <th>7190</th>\n",
       "      <td>-1</td>\n",
       "      <td>5928.202068</td>\n",
       "      <td>34</td>\n",
       "      <td>SECONDARY</td>\n",
       "      <td>1</td>\n",
       "      <td>married</td>\n",
       "      <td>0</td>\n",
       "      <td>M</td>\n",
       "      <td>employee</td>\n",
       "      <td>0</td>\n",
       "      <td>184315.121979</td>\n",
       "      <td>buying a car</td>\n",
       "    </tr>\n",
       "    <tr>\n",
       "      <th>7278</th>\n",
       "      <td>-1</td>\n",
       "      <td>526.318451</td>\n",
       "      <td>51</td>\n",
       "      <td>secondary</td>\n",
       "      <td>1</td>\n",
       "      <td>married</td>\n",
       "      <td>0</td>\n",
       "      <td>F</td>\n",
       "      <td>employee</td>\n",
       "      <td>0</td>\n",
       "      <td>146928.769439</td>\n",
       "      <td>commercial real estate transactions</td>\n",
       "    </tr>\n",
       "    <tr>\n",
       "      <th>7615</th>\n",
       "      <td>-1</td>\n",
       "      <td>NaN</td>\n",
       "      <td>35</td>\n",
       "      <td>secondary</td>\n",
       "      <td>1</td>\n",
       "      <td>married</td>\n",
       "      <td>0</td>\n",
       "      <td>M</td>\n",
       "      <td>employee</td>\n",
       "      <td>0</td>\n",
       "      <td>142594.396847</td>\n",
       "      <td>education</td>\n",
       "    </tr>\n",
       "    <tr>\n",
       "      <th>7685</th>\n",
       "      <td>-1</td>\n",
       "      <td>3237.360455</td>\n",
       "      <td>53</td>\n",
       "      <td>secondary</td>\n",
       "      <td>1</td>\n",
       "      <td>widowed</td>\n",
       "      <td>2</td>\n",
       "      <td>F</td>\n",
       "      <td>employee</td>\n",
       "      <td>0</td>\n",
       "      <td>159676.174958</td>\n",
       "      <td>construction of residential real estate</td>\n",
       "    </tr>\n",
       "    <tr>\n",
       "      <th>8229</th>\n",
       "      <td>-1</td>\n",
       "      <td>1803.441074</td>\n",
       "      <td>54</td>\n",
       "      <td>higher</td>\n",
       "      <td>0</td>\n",
       "      <td>married</td>\n",
       "      <td>0</td>\n",
       "      <td>F</td>\n",
       "      <td>partner</td>\n",
       "      <td>0</td>\n",
       "      <td>138809.082930</td>\n",
       "      <td>real estate purchase</td>\n",
       "    </tr>\n",
       "    <tr>\n",
       "      <th>8251</th>\n",
       "      <td>-1</td>\n",
       "      <td>3113.998449</td>\n",
       "      <td>31</td>\n",
       "      <td>secondary</td>\n",
       "      <td>1</td>\n",
       "      <td>civil marriage</td>\n",
       "      <td>1</td>\n",
       "      <td>F</td>\n",
       "      <td>employee</td>\n",
       "      <td>0</td>\n",
       "      <td>54412.056005</td>\n",
       "      <td>own automobile</td>\n",
       "    </tr>\n",
       "    <tr>\n",
       "      <th>8561</th>\n",
       "      <td>-1</td>\n",
       "      <td>195.479496</td>\n",
       "      <td>31</td>\n",
       "      <td>secondary</td>\n",
       "      <td>1</td>\n",
       "      <td>married</td>\n",
       "      <td>0</td>\n",
       "      <td>F</td>\n",
       "      <td>employee</td>\n",
       "      <td>0</td>\n",
       "      <td>145577.881522</td>\n",
       "      <td>home renovation</td>\n",
       "    </tr>\n",
       "    <tr>\n",
       "      <th>9565</th>\n",
       "      <td>-1</td>\n",
       "      <td>2896.629686</td>\n",
       "      <td>34</td>\n",
       "      <td>higher</td>\n",
       "      <td>0</td>\n",
       "      <td>married</td>\n",
       "      <td>0</td>\n",
       "      <td>M</td>\n",
       "      <td>employee</td>\n",
       "      <td>0</td>\n",
       "      <td>126754.656529</td>\n",
       "      <td>real estate transactions</td>\n",
       "    </tr>\n",
       "    <tr>\n",
       "      <th>9574</th>\n",
       "      <td>-1</td>\n",
       "      <td>2710.419901</td>\n",
       "      <td>28</td>\n",
       "      <td>higher</td>\n",
       "      <td>0</td>\n",
       "      <td>married</td>\n",
       "      <td>0</td>\n",
       "      <td>M</td>\n",
       "      <td>civil servant</td>\n",
       "      <td>0</td>\n",
       "      <td>303137.161001</td>\n",
       "      <td>further education</td>\n",
       "    </tr>\n",
       "    <tr>\n",
       "      <th>10177</th>\n",
       "      <td>-1</td>\n",
       "      <td>1743.604011</td>\n",
       "      <td>37</td>\n",
       "      <td>secondary</td>\n",
       "      <td>1</td>\n",
       "      <td>married</td>\n",
       "      <td>0</td>\n",
       "      <td>M</td>\n",
       "      <td>employee</td>\n",
       "      <td>0</td>\n",
       "      <td>310367.509001</td>\n",
       "      <td>educational attainment</td>\n",
       "    </tr>\n",
       "    <tr>\n",
       "      <th>10365</th>\n",
       "      <td>-1</td>\n",
       "      <td>345774.125957</td>\n",
       "      <td>63</td>\n",
       "      <td>HIGHER</td>\n",
       "      <td>0</td>\n",
       "      <td>widowed</td>\n",
       "      <td>2</td>\n",
       "      <td>F</td>\n",
       "      <td>pensioner</td>\n",
       "      <td>0</td>\n",
       "      <td>170762.751325</td>\n",
       "      <td>construction of residential real estate</td>\n",
       "    </tr>\n",
       "    <tr>\n",
       "      <th>10918</th>\n",
       "      <td>-1</td>\n",
       "      <td>340499.039342</td>\n",
       "      <td>50</td>\n",
       "      <td>secondary</td>\n",
       "      <td>1</td>\n",
       "      <td>married</td>\n",
       "      <td>0</td>\n",
       "      <td>M</td>\n",
       "      <td>pensioner</td>\n",
       "      <td>0</td>\n",
       "      <td>170762.773162</td>\n",
       "      <td>buying your own house</td>\n",
       "    </tr>\n",
       "    <tr>\n",
       "      <th>11109</th>\n",
       "      <td>-1</td>\n",
       "      <td>3438.463024</td>\n",
       "      <td>59</td>\n",
       "      <td>secondary</td>\n",
       "      <td>1</td>\n",
       "      <td>married</td>\n",
       "      <td>0</td>\n",
       "      <td>F</td>\n",
       "      <td>employee</td>\n",
       "      <td>0</td>\n",
       "      <td>219874.012345</td>\n",
       "      <td>housing transactions</td>\n",
       "    </tr>\n",
       "    <tr>\n",
       "      <th>11268</th>\n",
       "      <td>-1</td>\n",
       "      <td>1048.782203</td>\n",
       "      <td>30</td>\n",
       "      <td>higher</td>\n",
       "      <td>0</td>\n",
       "      <td>civil marriage</td>\n",
       "      <td>1</td>\n",
       "      <td>F</td>\n",
       "      <td>partner</td>\n",
       "      <td>0</td>\n",
       "      <td>321603.700207</td>\n",
       "      <td>to buy a car</td>\n",
       "    </tr>\n",
       "    <tr>\n",
       "      <th>11617</th>\n",
       "      <td>-1</td>\n",
       "      <td>370.827130</td>\n",
       "      <td>27</td>\n",
       "      <td>secondary</td>\n",
       "      <td>1</td>\n",
       "      <td>married</td>\n",
       "      <td>0</td>\n",
       "      <td>F</td>\n",
       "      <td>partner</td>\n",
       "      <td>0</td>\n",
       "      <td>164591.260338</td>\n",
       "      <td>buying a house to rent</td>\n",
       "    </tr>\n",
       "    <tr>\n",
       "      <th>12304</th>\n",
       "      <td>-1</td>\n",
       "      <td>8493.101252</td>\n",
       "      <td>61</td>\n",
       "      <td>incomplete higher</td>\n",
       "      <td>2</td>\n",
       "      <td>married</td>\n",
       "      <td>0</td>\n",
       "      <td>M</td>\n",
       "      <td>employee</td>\n",
       "      <td>0</td>\n",
       "      <td>315006.182056</td>\n",
       "      <td>real estate</td>\n",
       "    </tr>\n",
       "    <tr>\n",
       "      <th>13786</th>\n",
       "      <td>-1</td>\n",
       "      <td>NaN</td>\n",
       "      <td>42</td>\n",
       "      <td>secondary</td>\n",
       "      <td>1</td>\n",
       "      <td>single</td>\n",
       "      <td>4</td>\n",
       "      <td>M</td>\n",
       "      <td>partner</td>\n",
       "      <td>0</td>\n",
       "      <td>172357.950966</td>\n",
       "      <td>automobile</td>\n",
       "    </tr>\n",
       "    <tr>\n",
       "      <th>14357</th>\n",
       "      <td>-1</td>\n",
       "      <td>268.337037</td>\n",
       "      <td>23</td>\n",
       "      <td>secondary</td>\n",
       "      <td>1</td>\n",
       "      <td>divorced</td>\n",
       "      <td>3</td>\n",
       "      <td>F</td>\n",
       "      <td>partner</td>\n",
       "      <td>0</td>\n",
       "      <td>92257.579312</td>\n",
       "      <td>buying residential real estate</td>\n",
       "    </tr>\n",
       "    <tr>\n",
       "      <th>15147</th>\n",
       "      <td>-1</td>\n",
       "      <td>9851.184337</td>\n",
       "      <td>44</td>\n",
       "      <td>secondary</td>\n",
       "      <td>1</td>\n",
       "      <td>divorced</td>\n",
       "      <td>3</td>\n",
       "      <td>F</td>\n",
       "      <td>employee</td>\n",
       "      <td>0</td>\n",
       "      <td>110990.810581</td>\n",
       "      <td>own automobile</td>\n",
       "    </tr>\n",
       "    <tr>\n",
       "      <th>15435</th>\n",
       "      <td>-1</td>\n",
       "      <td>3614.220232</td>\n",
       "      <td>40</td>\n",
       "      <td>higher</td>\n",
       "      <td>0</td>\n",
       "      <td>civil marriage</td>\n",
       "      <td>1</td>\n",
       "      <td>F</td>\n",
       "      <td>employee</td>\n",
       "      <td>0</td>\n",
       "      <td>98127.537462</td>\n",
       "      <td>to perform a wedding</td>\n",
       "    </tr>\n",
       "    <tr>\n",
       "      <th>16129</th>\n",
       "      <td>-1</td>\n",
       "      <td>457.861760</td>\n",
       "      <td>33</td>\n",
       "      <td>secondary</td>\n",
       "      <td>1</td>\n",
       "      <td>married</td>\n",
       "      <td>0</td>\n",
       "      <td>F</td>\n",
       "      <td>employee</td>\n",
       "      <td>1</td>\n",
       "      <td>149641.079451</td>\n",
       "      <td>automobile</td>\n",
       "    </tr>\n",
       "    <tr>\n",
       "      <th>16265</th>\n",
       "      <td>-1</td>\n",
       "      <td>2802.218127</td>\n",
       "      <td>40</td>\n",
       "      <td>higher</td>\n",
       "      <td>0</td>\n",
       "      <td>married</td>\n",
       "      <td>0</td>\n",
       "      <td>M</td>\n",
       "      <td>employee</td>\n",
       "      <td>0</td>\n",
       "      <td>111984.472021</td>\n",
       "      <td>buying a house</td>\n",
       "    </tr>\n",
       "    <tr>\n",
       "      <th>17095</th>\n",
       "      <td>-1</td>\n",
       "      <td>2809.693200</td>\n",
       "      <td>34</td>\n",
       "      <td>secondary</td>\n",
       "      <td>1</td>\n",
       "      <td>married</td>\n",
       "      <td>0</td>\n",
       "      <td>F</td>\n",
       "      <td>employee</td>\n",
       "      <td>0</td>\n",
       "      <td>182543.890127</td>\n",
       "      <td>to buy a used car</td>\n",
       "    </tr>\n",
       "    <tr>\n",
       "      <th>17429</th>\n",
       "      <td>-1</td>\n",
       "      <td>895.379738</td>\n",
       "      <td>37</td>\n",
       "      <td>secondary</td>\n",
       "      <td>1</td>\n",
       "      <td>married</td>\n",
       "      <td>0</td>\n",
       "      <td>F</td>\n",
       "      <td>partner</td>\n",
       "      <td>0</td>\n",
       "      <td>214814.018780</td>\n",
       "      <td>housing</td>\n",
       "    </tr>\n",
       "    <tr>\n",
       "      <th>17657</th>\n",
       "      <td>-1</td>\n",
       "      <td>4571.957475</td>\n",
       "      <td>41</td>\n",
       "      <td>secondary</td>\n",
       "      <td>1</td>\n",
       "      <td>married</td>\n",
       "      <td>0</td>\n",
       "      <td>F</td>\n",
       "      <td>employee</td>\n",
       "      <td>0</td>\n",
       "      <td>122105.415823</td>\n",
       "      <td>own real estate transactions</td>\n",
       "    </tr>\n",
       "    <tr>\n",
       "      <th>18219</th>\n",
       "      <td>-1</td>\n",
       "      <td>3575.215641</td>\n",
       "      <td>33</td>\n",
       "      <td>secondary</td>\n",
       "      <td>1</td>\n",
       "      <td>married</td>\n",
       "      <td>0</td>\n",
       "      <td>F</td>\n",
       "      <td>employee</td>\n",
       "      <td>0</td>\n",
       "      <td>128362.023879</td>\n",
       "      <td>higher education</td>\n",
       "    </tr>\n",
       "    <tr>\n",
       "      <th>19100</th>\n",
       "      <td>-1</td>\n",
       "      <td>617.246968</td>\n",
       "      <td>38</td>\n",
       "      <td>secondary</td>\n",
       "      <td>1</td>\n",
       "      <td>single</td>\n",
       "      <td>4</td>\n",
       "      <td>M</td>\n",
       "      <td>employee</td>\n",
       "      <td>0</td>\n",
       "      <td>122205.497527</td>\n",
       "      <td>construction of residential real estate</td>\n",
       "    </tr>\n",
       "    <tr>\n",
       "      <th>19366</th>\n",
       "      <td>-1</td>\n",
       "      <td>372.034749</td>\n",
       "      <td>43</td>\n",
       "      <td>SECONDARY</td>\n",
       "      <td>1</td>\n",
       "      <td>married</td>\n",
       "      <td>0</td>\n",
       "      <td>M</td>\n",
       "      <td>employee</td>\n",
       "      <td>0</td>\n",
       "      <td>155588.766795</td>\n",
       "      <td>used car deal</td>\n",
       "    </tr>\n",
       "    <tr>\n",
       "      <th>19417</th>\n",
       "      <td>-1</td>\n",
       "      <td>350340.760224</td>\n",
       "      <td>28</td>\n",
       "      <td>secondary</td>\n",
       "      <td>1</td>\n",
       "      <td>divorced</td>\n",
       "      <td>3</td>\n",
       "      <td>F</td>\n",
       "      <td>pensioner</td>\n",
       "      <td>0</td>\n",
       "      <td>52872.993654</td>\n",
       "      <td>automobiles</td>\n",
       "    </tr>\n",
       "    <tr>\n",
       "      <th>20393</th>\n",
       "      <td>-1</td>\n",
       "      <td>355157.107212</td>\n",
       "      <td>69</td>\n",
       "      <td>secondary</td>\n",
       "      <td>1</td>\n",
       "      <td>single</td>\n",
       "      <td>4</td>\n",
       "      <td>F</td>\n",
       "      <td>pensioner</td>\n",
       "      <td>0</td>\n",
       "      <td>116521.045858</td>\n",
       "      <td>real estate transactions</td>\n",
       "    </tr>\n",
       "    <tr>\n",
       "      <th>20717</th>\n",
       "      <td>-1</td>\n",
       "      <td>661.822321</td>\n",
       "      <td>32</td>\n",
       "      <td>higher</td>\n",
       "      <td>0</td>\n",
       "      <td>married</td>\n",
       "      <td>0</td>\n",
       "      <td>F</td>\n",
       "      <td>employee</td>\n",
       "      <td>0</td>\n",
       "      <td>137405.384917</td>\n",
       "      <td>buying residential real estate</td>\n",
       "    </tr>\n",
       "    <tr>\n",
       "      <th>21140</th>\n",
       "      <td>-1</td>\n",
       "      <td>1422.668059</td>\n",
       "      <td>44</td>\n",
       "      <td>secondary</td>\n",
       "      <td>1</td>\n",
       "      <td>married</td>\n",
       "      <td>0</td>\n",
       "      <td>F</td>\n",
       "      <td>partner</td>\n",
       "      <td>0</td>\n",
       "      <td>169562.091999</td>\n",
       "      <td>own real estate transactions</td>\n",
       "    </tr>\n",
       "  </tbody>\n",
       "</table>\n",
       "</div>"
      ],
      "text/plain": [
       "       children  days_employed  dob_years          education  education_id  \\\n",
       "291          -1    4417.703588         46          secondary             1   \n",
       "705          -1     902.084528         50          secondary             1   \n",
       "742          -1    3174.456205         57          secondary             1   \n",
       "800          -1  349987.852217         54          secondary             1   \n",
       "941          -1            NaN         57          Secondary             1   \n",
       "1363         -1    1195.264956         55          SECONDARY             1   \n",
       "1929         -1    1461.303336         38          secondary             1   \n",
       "2073         -1    2539.761232         42          secondary             1   \n",
       "3814         -1    3045.290443         26          Secondary             1   \n",
       "4201         -1     901.101738         41          secondary             1   \n",
       "4402         -1  398001.302888         64          SECONDARY             1   \n",
       "4542         -1    1811.899756         32          secondary             1   \n",
       "5272         -1    1143.485347         46          secondary             1   \n",
       "6013         -1    1361.258696         46             higher             0   \n",
       "6385         -1  370215.476226         48          secondary             1   \n",
       "7190         -1    5928.202068         34          SECONDARY             1   \n",
       "7278         -1     526.318451         51          secondary             1   \n",
       "7615         -1            NaN         35          secondary             1   \n",
       "7685         -1    3237.360455         53          secondary             1   \n",
       "8229         -1    1803.441074         54             higher             0   \n",
       "8251         -1    3113.998449         31          secondary             1   \n",
       "8561         -1     195.479496         31          secondary             1   \n",
       "9565         -1    2896.629686         34             higher             0   \n",
       "9574         -1    2710.419901         28             higher             0   \n",
       "10177        -1    1743.604011         37          secondary             1   \n",
       "10365        -1  345774.125957         63             HIGHER             0   \n",
       "10918        -1  340499.039342         50          secondary             1   \n",
       "11109        -1    3438.463024         59          secondary             1   \n",
       "11268        -1    1048.782203         30             higher             0   \n",
       "11617        -1     370.827130         27          secondary             1   \n",
       "12304        -1    8493.101252         61  incomplete higher             2   \n",
       "13786        -1            NaN         42          secondary             1   \n",
       "14357        -1     268.337037         23          secondary             1   \n",
       "15147        -1    9851.184337         44          secondary             1   \n",
       "15435        -1    3614.220232         40             higher             0   \n",
       "16129        -1     457.861760         33          secondary             1   \n",
       "16265        -1    2802.218127         40             higher             0   \n",
       "17095        -1    2809.693200         34          secondary             1   \n",
       "17429        -1     895.379738         37          secondary             1   \n",
       "17657        -1    4571.957475         41          secondary             1   \n",
       "18219        -1    3575.215641         33          secondary             1   \n",
       "19100        -1     617.246968         38          secondary             1   \n",
       "19366        -1     372.034749         43          SECONDARY             1   \n",
       "19417        -1  350340.760224         28          secondary             1   \n",
       "20393        -1  355157.107212         69          secondary             1   \n",
       "20717        -1     661.822321         32             higher             0   \n",
       "21140        -1    1422.668059         44          secondary             1   \n",
       "\n",
       "        family_status  family_status_id gender    income_type  debt  \\\n",
       "291    civil marriage                 1      F       employee     0   \n",
       "705           married                 0      F  civil servant     0   \n",
       "742           married                 0      F       employee     0   \n",
       "800            single                 4      F      pensioner     0   \n",
       "941           married                 0      F      pensioner     0   \n",
       "1363          married                 0      F        partner     0   \n",
       "1929           single                 4      M       employee     0   \n",
       "2073         divorced                 3      F        partner     0   \n",
       "3814   civil marriage                 1      F  civil servant     0   \n",
       "4201          married                 0      F  civil servant     0   \n",
       "4402          married                 0      F      pensioner     0   \n",
       "4542          married                 0      F       employee     0   \n",
       "5272          widowed                 2      F       employee     0   \n",
       "6013          married                 0      F       employee     0   \n",
       "6385          widowed                 2      F      pensioner     0   \n",
       "7190          married                 0      M       employee     0   \n",
       "7278          married                 0      F       employee     0   \n",
       "7615          married                 0      M       employee     0   \n",
       "7685          widowed                 2      F       employee     0   \n",
       "8229          married                 0      F        partner     0   \n",
       "8251   civil marriage                 1      F       employee     0   \n",
       "8561          married                 0      F       employee     0   \n",
       "9565          married                 0      M       employee     0   \n",
       "9574          married                 0      M  civil servant     0   \n",
       "10177         married                 0      M       employee     0   \n",
       "10365         widowed                 2      F      pensioner     0   \n",
       "10918         married                 0      M      pensioner     0   \n",
       "11109         married                 0      F       employee     0   \n",
       "11268  civil marriage                 1      F        partner     0   \n",
       "11617         married                 0      F        partner     0   \n",
       "12304         married                 0      M       employee     0   \n",
       "13786          single                 4      M        partner     0   \n",
       "14357        divorced                 3      F        partner     0   \n",
       "15147        divorced                 3      F       employee     0   \n",
       "15435  civil marriage                 1      F       employee     0   \n",
       "16129         married                 0      F       employee     1   \n",
       "16265         married                 0      M       employee     0   \n",
       "17095         married                 0      F       employee     0   \n",
       "17429         married                 0      F        partner     0   \n",
       "17657         married                 0      F       employee     0   \n",
       "18219         married                 0      F       employee     0   \n",
       "19100          single                 4      M       employee     0   \n",
       "19366         married                 0      M       employee     0   \n",
       "19417        divorced                 3      F      pensioner     0   \n",
       "20393          single                 4      F      pensioner     0   \n",
       "20717         married                 0      F       employee     0   \n",
       "21140         married                 0      F        partner     0   \n",
       "\n",
       "        total_income                                  purpose  \n",
       "291    102816.346412                    specialized education  \n",
       "705    137882.899271                             buying a car  \n",
       "742     64268.044444                     additional education  \n",
       "800     86293.724153                     additional education  \n",
       "941    118514.486412                      to buy your own car  \n",
       "1363    69550.699692                    specialized education  \n",
       "1929   109121.569013                           buying a house  \n",
       "2073   162638.609373                           buying a house  \n",
       "3814   131892.785435                        to host a wedding  \n",
       "4201   226375.766751             own real estate transactions  \n",
       "4402   163264.062064                     real estate purchase  \n",
       "4542   160544.718446                                education  \n",
       "5272   278708.018820                     real estate purchase  \n",
       "6013   143008.454914            building your own real estate  \n",
       "6385    36052.447435                                education  \n",
       "7190   184315.121979                             buying a car  \n",
       "7278   146928.769439      commercial real estate transactions  \n",
       "7615   142594.396847                                education  \n",
       "7685   159676.174958  construction of residential real estate  \n",
       "8229   138809.082930                     real estate purchase  \n",
       "8251    54412.056005                           own automobile  \n",
       "8561   145577.881522                          home renovation  \n",
       "9565   126754.656529                 real estate transactions  \n",
       "9574   303137.161001                        further education  \n",
       "10177  310367.509001                   educational attainment  \n",
       "10365  170762.751325  construction of residential real estate  \n",
       "10918  170762.773162                    buying your own house  \n",
       "11109  219874.012345                     housing transactions  \n",
       "11268  321603.700207                             to buy a car  \n",
       "11617  164591.260338                   buying a house to rent  \n",
       "12304  315006.182056                              real estate  \n",
       "13786  172357.950966                               automobile  \n",
       "14357   92257.579312           buying residential real estate  \n",
       "15147  110990.810581                           own automobile  \n",
       "15435   98127.537462                     to perform a wedding  \n",
       "16129  149641.079451                               automobile  \n",
       "16265  111984.472021                           buying a house  \n",
       "17095  182543.890127                        to buy a used car  \n",
       "17429  214814.018780                                  housing  \n",
       "17657  122105.415823             own real estate transactions  \n",
       "18219  128362.023879                         higher education  \n",
       "19100  122205.497527  construction of residential real estate  \n",
       "19366  155588.766795                            used car deal  \n",
       "19417   52872.993654                              automobiles  \n",
       "20393  116521.045858                 real estate transactions  \n",
       "20717  137405.384917           buying residential real estate  \n",
       "21140  169562.091999             own real estate transactions  "
      ]
     },
     "execution_count": 70,
     "metadata": {},
     "output_type": "execute_result"
    }
   ],
   "source": [
    "data.loc[data['children'] == -1]"
   ]
  },
  {
   "cell_type": "code",
   "execution_count": 71,
   "id": "5ffb36cb",
   "metadata": {},
   "outputs": [
    {
     "data": {
      "text/html": [
       "<div>\n",
       "<style scoped>\n",
       "    .dataframe tbody tr th:only-of-type {\n",
       "        vertical-align: middle;\n",
       "    }\n",
       "\n",
       "    .dataframe tbody tr th {\n",
       "        vertical-align: top;\n",
       "    }\n",
       "\n",
       "    .dataframe thead th {\n",
       "        text-align: right;\n",
       "    }\n",
       "</style>\n",
       "<table border=\"1\" class=\"dataframe\">\n",
       "  <thead>\n",
       "    <tr style=\"text-align: right;\">\n",
       "      <th></th>\n",
       "      <th>children</th>\n",
       "      <th>days_employed</th>\n",
       "      <th>dob_years</th>\n",
       "      <th>education</th>\n",
       "      <th>education_id</th>\n",
       "      <th>family_status</th>\n",
       "      <th>family_status_id</th>\n",
       "      <th>gender</th>\n",
       "      <th>income_type</th>\n",
       "      <th>debt</th>\n",
       "      <th>total_income</th>\n",
       "      <th>purpose</th>\n",
       "    </tr>\n",
       "  </thead>\n",
       "  <tbody>\n",
       "    <tr>\n",
       "      <th>606</th>\n",
       "      <td>20</td>\n",
       "      <td>880.221113</td>\n",
       "      <td>21</td>\n",
       "      <td>secondary</td>\n",
       "      <td>1</td>\n",
       "      <td>married</td>\n",
       "      <td>0</td>\n",
       "      <td>M</td>\n",
       "      <td>partner</td>\n",
       "      <td>0</td>\n",
       "      <td>145334.865002</td>\n",
       "      <td>buying a house</td>\n",
       "    </tr>\n",
       "    <tr>\n",
       "      <th>720</th>\n",
       "      <td>20</td>\n",
       "      <td>855.595512</td>\n",
       "      <td>44</td>\n",
       "      <td>secondary</td>\n",
       "      <td>1</td>\n",
       "      <td>married</td>\n",
       "      <td>0</td>\n",
       "      <td>F</td>\n",
       "      <td>partner</td>\n",
       "      <td>0</td>\n",
       "      <td>112998.738649</td>\n",
       "      <td>real estate purchase</td>\n",
       "    </tr>\n",
       "    <tr>\n",
       "      <th>1074</th>\n",
       "      <td>20</td>\n",
       "      <td>3310.411598</td>\n",
       "      <td>56</td>\n",
       "      <td>secondary</td>\n",
       "      <td>1</td>\n",
       "      <td>married</td>\n",
       "      <td>0</td>\n",
       "      <td>F</td>\n",
       "      <td>employee</td>\n",
       "      <td>1</td>\n",
       "      <td>229518.537004</td>\n",
       "      <td>educational attainment</td>\n",
       "    </tr>\n",
       "    <tr>\n",
       "      <th>2510</th>\n",
       "      <td>20</td>\n",
       "      <td>2714.161249</td>\n",
       "      <td>59</td>\n",
       "      <td>higher</td>\n",
       "      <td>0</td>\n",
       "      <td>widowed</td>\n",
       "      <td>2</td>\n",
       "      <td>F</td>\n",
       "      <td>employee</td>\n",
       "      <td>0</td>\n",
       "      <td>264474.835577</td>\n",
       "      <td>commercial real estate transactions</td>\n",
       "    </tr>\n",
       "    <tr>\n",
       "      <th>2941</th>\n",
       "      <td>20</td>\n",
       "      <td>2161.591519</td>\n",
       "      <td>0</td>\n",
       "      <td>secondary</td>\n",
       "      <td>1</td>\n",
       "      <td>married</td>\n",
       "      <td>0</td>\n",
       "      <td>F</td>\n",
       "      <td>employee</td>\n",
       "      <td>0</td>\n",
       "      <td>199739.941398</td>\n",
       "      <td>to buy a car</td>\n",
       "    </tr>\n",
       "    <tr>\n",
       "      <th>...</th>\n",
       "      <td>...</td>\n",
       "      <td>...</td>\n",
       "      <td>...</td>\n",
       "      <td>...</td>\n",
       "      <td>...</td>\n",
       "      <td>...</td>\n",
       "      <td>...</td>\n",
       "      <td>...</td>\n",
       "      <td>...</td>\n",
       "      <td>...</td>\n",
       "      <td>...</td>\n",
       "      <td>...</td>\n",
       "    </tr>\n",
       "    <tr>\n",
       "      <th>21008</th>\n",
       "      <td>20</td>\n",
       "      <td>1240.257910</td>\n",
       "      <td>40</td>\n",
       "      <td>secondary</td>\n",
       "      <td>1</td>\n",
       "      <td>married</td>\n",
       "      <td>0</td>\n",
       "      <td>F</td>\n",
       "      <td>employee</td>\n",
       "      <td>1</td>\n",
       "      <td>133524.010303</td>\n",
       "      <td>own automobile</td>\n",
       "    </tr>\n",
       "    <tr>\n",
       "      <th>21325</th>\n",
       "      <td>20</td>\n",
       "      <td>601.174883</td>\n",
       "      <td>37</td>\n",
       "      <td>secondary</td>\n",
       "      <td>1</td>\n",
       "      <td>married</td>\n",
       "      <td>0</td>\n",
       "      <td>F</td>\n",
       "      <td>partner</td>\n",
       "      <td>0</td>\n",
       "      <td>102986.065978</td>\n",
       "      <td>specialized education</td>\n",
       "    </tr>\n",
       "    <tr>\n",
       "      <th>21390</th>\n",
       "      <td>20</td>\n",
       "      <td>NaN</td>\n",
       "      <td>53</td>\n",
       "      <td>secondary</td>\n",
       "      <td>1</td>\n",
       "      <td>married</td>\n",
       "      <td>0</td>\n",
       "      <td>M</td>\n",
       "      <td>partner</td>\n",
       "      <td>0</td>\n",
       "      <td>172357.950966</td>\n",
       "      <td>buying residential real estate</td>\n",
       "    </tr>\n",
       "    <tr>\n",
       "      <th>21404</th>\n",
       "      <td>20</td>\n",
       "      <td>494.788448</td>\n",
       "      <td>52</td>\n",
       "      <td>secondary</td>\n",
       "      <td>1</td>\n",
       "      <td>married</td>\n",
       "      <td>0</td>\n",
       "      <td>M</td>\n",
       "      <td>partner</td>\n",
       "      <td>0</td>\n",
       "      <td>156629.683642</td>\n",
       "      <td>own real estate transactions</td>\n",
       "    </tr>\n",
       "    <tr>\n",
       "      <th>21491</th>\n",
       "      <td>20</td>\n",
       "      <td>173.954460</td>\n",
       "      <td>27</td>\n",
       "      <td>secondary</td>\n",
       "      <td>1</td>\n",
       "      <td>married</td>\n",
       "      <td>0</td>\n",
       "      <td>F</td>\n",
       "      <td>employee</td>\n",
       "      <td>0</td>\n",
       "      <td>155520.899688</td>\n",
       "      <td>to buy a used car</td>\n",
       "    </tr>\n",
       "  </tbody>\n",
       "</table>\n",
       "<p>76 rows × 12 columns</p>\n",
       "</div>"
      ],
      "text/plain": [
       "       children  days_employed  dob_years  education  education_id  \\\n",
       "606          20     880.221113         21  secondary             1   \n",
       "720          20     855.595512         44  secondary             1   \n",
       "1074         20    3310.411598         56  secondary             1   \n",
       "2510         20    2714.161249         59     higher             0   \n",
       "2941         20    2161.591519          0  secondary             1   \n",
       "...         ...            ...        ...        ...           ...   \n",
       "21008        20    1240.257910         40  secondary             1   \n",
       "21325        20     601.174883         37  secondary             1   \n",
       "21390        20            NaN         53  secondary             1   \n",
       "21404        20     494.788448         52  secondary             1   \n",
       "21491        20     173.954460         27  secondary             1   \n",
       "\n",
       "      family_status  family_status_id gender income_type  debt   total_income  \\\n",
       "606         married                 0      M     partner     0  145334.865002   \n",
       "720         married                 0      F     partner     0  112998.738649   \n",
       "1074        married                 0      F    employee     1  229518.537004   \n",
       "2510        widowed                 2      F    employee     0  264474.835577   \n",
       "2941        married                 0      F    employee     0  199739.941398   \n",
       "...             ...               ...    ...         ...   ...            ...   \n",
       "21008       married                 0      F    employee     1  133524.010303   \n",
       "21325       married                 0      F     partner     0  102986.065978   \n",
       "21390       married                 0      M     partner     0  172357.950966   \n",
       "21404       married                 0      M     partner     0  156629.683642   \n",
       "21491       married                 0      F    employee     0  155520.899688   \n",
       "\n",
       "                                   purpose  \n",
       "606                         buying a house  \n",
       "720                   real estate purchase  \n",
       "1074                educational attainment  \n",
       "2510   commercial real estate transactions  \n",
       "2941                          to buy a car  \n",
       "...                                    ...  \n",
       "21008                       own automobile  \n",
       "21325                specialized education  \n",
       "21390       buying residential real estate  \n",
       "21404         own real estate transactions  \n",
       "21491                    to buy a used car  \n",
       "\n",
       "[76 rows x 12 columns]"
      ]
     },
     "execution_count": 71,
     "metadata": {},
     "output_type": "execute_result"
    }
   ],
   "source": [
    "data.loc[data['children'] == 20]"
   ]
  },
  {
   "cell_type": "code",
   "execution_count": 72,
   "id": "1ebc8421",
   "metadata": {},
   "outputs": [
    {
     "name": "stdout",
     "output_type": "stream",
     "text": [
      "[1 0 3 2 4 5]\n"
     ]
    }
   ],
   "source": [
    "data = data.loc[(data['children'] != -1) & (data['children'] != 20)]\n",
    "print(data['children'].unique())"
   ]
  },
  {
   "cell_type": "code",
   "execution_count": 73,
   "id": "62125894",
   "metadata": {},
   "outputs": [
    {
     "data": {
      "text/plain": [
       "children            0\n",
       "days_employed       0\n",
       "dob_years           0\n",
       "education           0\n",
       "education_id        0\n",
       "family_status       0\n",
       "family_status_id    0\n",
       "gender              0\n",
       "income_type         0\n",
       "debt                0\n",
       "total_income        0\n",
       "purpose             0\n",
       "dtype: int64"
      ]
     },
     "execution_count": 73,
     "metadata": {},
     "output_type": "execute_result"
    }
   ],
   "source": [
    "# Filling gaps in employment history with medians\n",
    "data['days_employed'] = data.groupby('income_type')['days_employed']\\\n",
    ".transform(lambda x: x.fillna(x.median())) # Skips NaN when counting by default\n",
    "data.isna().sum()"
   ]
  },
  {
   "cell_type": "markdown",
   "id": "4744df82-b024-4d88-896e-7103d816739f",
   "metadata": {},
   "source": [
    "### Removing duplicates"
   ]
  },
  {
   "cell_type": "code",
   "execution_count": 74,
   "id": "09eae67f-f049-47d1-9ddc-27ba2204a73f",
   "metadata": {},
   "outputs": [
    {
     "name": "stdout",
     "output_type": "stream",
     "text": [
      "54\n"
     ]
    }
   ],
   "source": [
    "print(data.duplicated().sum())"
   ]
  },
  {
   "cell_type": "code",
   "execution_count": 75,
   "id": "747ce88a",
   "metadata": {},
   "outputs": [
    {
     "data": {
      "text/html": [
       "<div>\n",
       "<style scoped>\n",
       "    .dataframe tbody tr th:only-of-type {\n",
       "        vertical-align: middle;\n",
       "    }\n",
       "\n",
       "    .dataframe tbody tr th {\n",
       "        vertical-align: top;\n",
       "    }\n",
       "\n",
       "    .dataframe thead th {\n",
       "        text-align: right;\n",
       "    }\n",
       "</style>\n",
       "<table border=\"1\" class=\"dataframe\">\n",
       "  <thead>\n",
       "    <tr style=\"text-align: right;\">\n",
       "      <th></th>\n",
       "      <th>children</th>\n",
       "      <th>days_employed</th>\n",
       "      <th>dob_years</th>\n",
       "      <th>education</th>\n",
       "      <th>education_id</th>\n",
       "      <th>family_status</th>\n",
       "      <th>family_status_id</th>\n",
       "      <th>gender</th>\n",
       "      <th>income_type</th>\n",
       "      <th>debt</th>\n",
       "      <th>total_income</th>\n",
       "      <th>purpose</th>\n",
       "    </tr>\n",
       "  </thead>\n",
       "  <tbody>\n",
       "    <tr>\n",
       "      <th>0</th>\n",
       "      <td>1</td>\n",
       "      <td>8437.673028</td>\n",
       "      <td>42</td>\n",
       "      <td>higher</td>\n",
       "      <td>0</td>\n",
       "      <td>married</td>\n",
       "      <td>0</td>\n",
       "      <td>F</td>\n",
       "      <td>employee</td>\n",
       "      <td>0</td>\n",
       "      <td>253875</td>\n",
       "      <td>buying a house</td>\n",
       "    </tr>\n",
       "    <tr>\n",
       "      <th>1</th>\n",
       "      <td>1</td>\n",
       "      <td>4024.803754</td>\n",
       "      <td>36</td>\n",
       "      <td>secondary</td>\n",
       "      <td>1</td>\n",
       "      <td>married</td>\n",
       "      <td>0</td>\n",
       "      <td>F</td>\n",
       "      <td>employee</td>\n",
       "      <td>0</td>\n",
       "      <td>112080</td>\n",
       "      <td>buying a car</td>\n",
       "    </tr>\n",
       "    <tr>\n",
       "      <th>2</th>\n",
       "      <td>0</td>\n",
       "      <td>5623.422610</td>\n",
       "      <td>33</td>\n",
       "      <td>Secondary</td>\n",
       "      <td>1</td>\n",
       "      <td>married</td>\n",
       "      <td>0</td>\n",
       "      <td>M</td>\n",
       "      <td>employee</td>\n",
       "      <td>0</td>\n",
       "      <td>145885</td>\n",
       "      <td>buying a house</td>\n",
       "    </tr>\n",
       "    <tr>\n",
       "      <th>3</th>\n",
       "      <td>3</td>\n",
       "      <td>4124.747207</td>\n",
       "      <td>32</td>\n",
       "      <td>secondary</td>\n",
       "      <td>1</td>\n",
       "      <td>married</td>\n",
       "      <td>0</td>\n",
       "      <td>M</td>\n",
       "      <td>employee</td>\n",
       "      <td>0</td>\n",
       "      <td>267628</td>\n",
       "      <td>additional education</td>\n",
       "    </tr>\n",
       "    <tr>\n",
       "      <th>4</th>\n",
       "      <td>0</td>\n",
       "      <td>340266.072047</td>\n",
       "      <td>53</td>\n",
       "      <td>secondary</td>\n",
       "      <td>1</td>\n",
       "      <td>civil marriage</td>\n",
       "      <td>1</td>\n",
       "      <td>F</td>\n",
       "      <td>pensioner</td>\n",
       "      <td>0</td>\n",
       "      <td>158616</td>\n",
       "      <td>to perform a wedding</td>\n",
       "    </tr>\n",
       "    <tr>\n",
       "      <th>5</th>\n",
       "      <td>0</td>\n",
       "      <td>926.185831</td>\n",
       "      <td>27</td>\n",
       "      <td>higher</td>\n",
       "      <td>0</td>\n",
       "      <td>civil marriage</td>\n",
       "      <td>1</td>\n",
       "      <td>M</td>\n",
       "      <td>partner</td>\n",
       "      <td>0</td>\n",
       "      <td>255763</td>\n",
       "      <td>buying a house</td>\n",
       "    </tr>\n",
       "    <tr>\n",
       "      <th>6</th>\n",
       "      <td>0</td>\n",
       "      <td>2879.202052</td>\n",
       "      <td>43</td>\n",
       "      <td>higher</td>\n",
       "      <td>0</td>\n",
       "      <td>married</td>\n",
       "      <td>0</td>\n",
       "      <td>F</td>\n",
       "      <td>partner</td>\n",
       "      <td>0</td>\n",
       "      <td>240525</td>\n",
       "      <td>housing transactions</td>\n",
       "    </tr>\n",
       "    <tr>\n",
       "      <th>7</th>\n",
       "      <td>0</td>\n",
       "      <td>152.779569</td>\n",
       "      <td>50</td>\n",
       "      <td>SECONDARY</td>\n",
       "      <td>1</td>\n",
       "      <td>married</td>\n",
       "      <td>0</td>\n",
       "      <td>M</td>\n",
       "      <td>employee</td>\n",
       "      <td>0</td>\n",
       "      <td>135823</td>\n",
       "      <td>education</td>\n",
       "    </tr>\n",
       "    <tr>\n",
       "      <th>8</th>\n",
       "      <td>2</td>\n",
       "      <td>6929.865299</td>\n",
       "      <td>35</td>\n",
       "      <td>HIGHER</td>\n",
       "      <td>0</td>\n",
       "      <td>civil marriage</td>\n",
       "      <td>1</td>\n",
       "      <td>F</td>\n",
       "      <td>employee</td>\n",
       "      <td>0</td>\n",
       "      <td>95856</td>\n",
       "      <td>to host a wedding</td>\n",
       "    </tr>\n",
       "    <tr>\n",
       "      <th>9</th>\n",
       "      <td>0</td>\n",
       "      <td>2188.756445</td>\n",
       "      <td>41</td>\n",
       "      <td>secondary</td>\n",
       "      <td>1</td>\n",
       "      <td>married</td>\n",
       "      <td>0</td>\n",
       "      <td>M</td>\n",
       "      <td>employee</td>\n",
       "      <td>0</td>\n",
       "      <td>144425</td>\n",
       "      <td>family home purchase</td>\n",
       "    </tr>\n",
       "  </tbody>\n",
       "</table>\n",
       "</div>"
      ],
      "text/plain": [
       "   children  days_employed  dob_years  education  education_id  \\\n",
       "0         1    8437.673028         42     higher             0   \n",
       "1         1    4024.803754         36  secondary             1   \n",
       "2         0    5623.422610         33  Secondary             1   \n",
       "3         3    4124.747207         32  secondary             1   \n",
       "4         0  340266.072047         53  secondary             1   \n",
       "5         0     926.185831         27     higher             0   \n",
       "6         0    2879.202052         43     higher             0   \n",
       "7         0     152.779569         50  SECONDARY             1   \n",
       "8         2    6929.865299         35     HIGHER             0   \n",
       "9         0    2188.756445         41  secondary             1   \n",
       "\n",
       "    family_status  family_status_id gender income_type  debt  total_income  \\\n",
       "0         married                 0      F    employee     0        253875   \n",
       "1         married                 0      F    employee     0        112080   \n",
       "2         married                 0      M    employee     0        145885   \n",
       "3         married                 0      M    employee     0        267628   \n",
       "4  civil marriage                 1      F   pensioner     0        158616   \n",
       "5  civil marriage                 1      M     partner     0        255763   \n",
       "6         married                 0      F     partner     0        240525   \n",
       "7         married                 0      M    employee     0        135823   \n",
       "8  civil marriage                 1      F    employee     0         95856   \n",
       "9         married                 0      M    employee     0        144425   \n",
       "\n",
       "                purpose  \n",
       "0        buying a house  \n",
       "1          buying a car  \n",
       "2        buying a house  \n",
       "3  additional education  \n",
       "4  to perform a wedding  \n",
       "5        buying a house  \n",
       "6  housing transactions  \n",
       "7             education  \n",
       "8     to host a wedding  \n",
       "9  family home purchase  "
      ]
     },
     "execution_count": 75,
     "metadata": {},
     "output_type": "execute_result"
    }
   ],
   "source": [
    "data['total_income'] = data['total_income'].astype(int)\n",
    "data.head(10)"
   ]
  },
  {
   "cell_type": "code",
   "execution_count": 76,
   "id": "d7fff7cf",
   "metadata": {},
   "outputs": [
    {
     "name": "stdout",
     "output_type": "stream",
     "text": [
      "['higher' 'secondary' 'Secondary' 'SECONDARY' 'HIGHER' 'incomplete higher'\n",
      " 'primary' 'Higher' 'INCOMPLETE HIGHER' 'Incomplete higher' 'PRIMARY'\n",
      " 'Primary' 'Academic degree' 'ACADEMIC DEGREE' 'academic degree']\n"
     ]
    }
   ],
   "source": [
    "print(data['education'].unique())"
   ]
  },
  {
   "cell_type": "code",
   "execution_count": 77,
   "id": "0f3335ad",
   "metadata": {},
   "outputs": [
    {
     "data": {
      "text/plain": [
       "array(['higher', 'secondary', 'incomplete higher', 'primary',\n",
       "       'academic degree'], dtype=object)"
      ]
     },
     "execution_count": 77,
     "metadata": {},
     "output_type": "execute_result"
    }
   ],
   "source": [
    "data['education'] = data['education'].replace(['Secondary', 'SECONDARY'], 'secondary')\n",
    "data['education'] = data['education'].replace(['HIGHER', 'Higher'], 'higher')\n",
    "data['education'] = data['education'].replace(['Incomplete higher', 'INCOMPLETE HIGHER'],\\\n",
    "                                              'incomplete higher')\n",
    "data['education'] = data['education'].replace(['PRIMARY', 'Primary'], 'primary')\n",
    "data['education'] = data['education'].replace(['Academic degree', 'ACADEMIC DEGREE'], 'academic degree')\n",
    "\n",
    "# data['education'] = data['education'].str.lower() \n",
    "data['education'].unique()"
   ]
  },
  {
   "cell_type": "code",
   "execution_count": 78,
   "id": "fa62ba48",
   "metadata": {},
   "outputs": [
    {
     "name": "stdout",
     "output_type": "stream",
     "text": [
      "['employee' 'pensioner' 'partner' 'civil servant' 'unemployed'\n",
      " 'entrepreneur' 'student' 'on maternity leave']\n"
     ]
    }
   ],
   "source": [
    "# Let's make sure that there are no duplicates among the income types\n",
    "print(data['income_type'].unique())"
   ]
  },
  {
   "cell_type": "code",
   "execution_count": 79,
   "id": "d4d1a4e2-09ff-4aef-ad0a-2b48f867b304",
   "metadata": {},
   "outputs": [
    {
     "name": "stdout",
     "output_type": "stream",
     "text": [
      "<class 'pandas.core.frame.DataFrame'>\n",
      "Int64Index: 21402 entries, 0 to 21524\n",
      "Data columns (total 12 columns):\n",
      " #   Column            Non-Null Count  Dtype  \n",
      "---  ------            --------------  -----  \n",
      " 0   children          21402 non-null  int64  \n",
      " 1   days_employed     21402 non-null  float64\n",
      " 2   dob_years         21402 non-null  int64  \n",
      " 3   education         21402 non-null  object \n",
      " 4   education_id      21402 non-null  int64  \n",
      " 5   family_status     21402 non-null  object \n",
      " 6   family_status_id  21402 non-null  int64  \n",
      " 7   gender            21402 non-null  object \n",
      " 8   income_type       21402 non-null  object \n",
      " 9   debt              21402 non-null  int64  \n",
      " 10  total_income      21402 non-null  int64  \n",
      " 11  purpose           21402 non-null  object \n",
      "dtypes: float64(1), int64(6), object(5)\n",
      "memory usage: 2.1+ MB\n"
     ]
    }
   ],
   "source": [
    "data.info()"
   ]
  },
  {
   "cell_type": "code",
   "execution_count": 80,
   "id": "2ca99690",
   "metadata": {},
   "outputs": [
    {
     "data": {
      "text/html": [
       "<div>\n",
       "<style scoped>\n",
       "    .dataframe tbody tr th:only-of-type {\n",
       "        vertical-align: middle;\n",
       "    }\n",
       "\n",
       "    .dataframe tbody tr th {\n",
       "        vertical-align: top;\n",
       "    }\n",
       "\n",
       "    .dataframe thead th {\n",
       "        text-align: right;\n",
       "    }\n",
       "</style>\n",
       "<table border=\"1\" class=\"dataframe\">\n",
       "  <thead>\n",
       "    <tr style=\"text-align: right;\">\n",
       "      <th></th>\n",
       "      <th>children</th>\n",
       "      <th>days_employed</th>\n",
       "      <th>dob_years</th>\n",
       "      <th>education</th>\n",
       "      <th>education_id</th>\n",
       "      <th>family_status</th>\n",
       "      <th>family_status_id</th>\n",
       "      <th>gender</th>\n",
       "      <th>income_type</th>\n",
       "      <th>debt</th>\n",
       "      <th>total_income</th>\n",
       "      <th>purpose</th>\n",
       "    </tr>\n",
       "  </thead>\n",
       "  <tbody>\n",
       "    <tr>\n",
       "      <th>0</th>\n",
       "      <td>1</td>\n",
       "      <td>8437.673028</td>\n",
       "      <td>42</td>\n",
       "      <td>higher</td>\n",
       "      <td>0</td>\n",
       "      <td>married</td>\n",
       "      <td>0</td>\n",
       "      <td>F</td>\n",
       "      <td>employee</td>\n",
       "      <td>0</td>\n",
       "      <td>253875</td>\n",
       "      <td>buying a house</td>\n",
       "    </tr>\n",
       "    <tr>\n",
       "      <th>1</th>\n",
       "      <td>1</td>\n",
       "      <td>4024.803754</td>\n",
       "      <td>36</td>\n",
       "      <td>secondary</td>\n",
       "      <td>1</td>\n",
       "      <td>married</td>\n",
       "      <td>0</td>\n",
       "      <td>F</td>\n",
       "      <td>employee</td>\n",
       "      <td>0</td>\n",
       "      <td>112080</td>\n",
       "      <td>buying a car</td>\n",
       "    </tr>\n",
       "    <tr>\n",
       "      <th>2</th>\n",
       "      <td>0</td>\n",
       "      <td>5623.422610</td>\n",
       "      <td>33</td>\n",
       "      <td>secondary</td>\n",
       "      <td>1</td>\n",
       "      <td>married</td>\n",
       "      <td>0</td>\n",
       "      <td>M</td>\n",
       "      <td>employee</td>\n",
       "      <td>0</td>\n",
       "      <td>145885</td>\n",
       "      <td>buying a house</td>\n",
       "    </tr>\n",
       "    <tr>\n",
       "      <th>3</th>\n",
       "      <td>3</td>\n",
       "      <td>4124.747207</td>\n",
       "      <td>32</td>\n",
       "      <td>secondary</td>\n",
       "      <td>1</td>\n",
       "      <td>married</td>\n",
       "      <td>0</td>\n",
       "      <td>M</td>\n",
       "      <td>employee</td>\n",
       "      <td>0</td>\n",
       "      <td>267628</td>\n",
       "      <td>additional education</td>\n",
       "    </tr>\n",
       "    <tr>\n",
       "      <th>4</th>\n",
       "      <td>0</td>\n",
       "      <td>340266.072047</td>\n",
       "      <td>53</td>\n",
       "      <td>secondary</td>\n",
       "      <td>1</td>\n",
       "      <td>civil marriage</td>\n",
       "      <td>1</td>\n",
       "      <td>F</td>\n",
       "      <td>pensioner</td>\n",
       "      <td>0</td>\n",
       "      <td>158616</td>\n",
       "      <td>to perform a wedding</td>\n",
       "    </tr>\n",
       "  </tbody>\n",
       "</table>\n",
       "</div>"
      ],
      "text/plain": [
       "   children  days_employed  dob_years  education  education_id  \\\n",
       "0         1    8437.673028         42     higher             0   \n",
       "1         1    4024.803754         36  secondary             1   \n",
       "2         0    5623.422610         33  secondary             1   \n",
       "3         3    4124.747207         32  secondary             1   \n",
       "4         0  340266.072047         53  secondary             1   \n",
       "\n",
       "    family_status  family_status_id gender income_type  debt  total_income  \\\n",
       "0         married                 0      F    employee     0        253875   \n",
       "1         married                 0      F    employee     0        112080   \n",
       "2         married                 0      M    employee     0        145885   \n",
       "3         married                 0      M    employee     0        267628   \n",
       "4  civil marriage                 1      F   pensioner     0        158616   \n",
       "\n",
       "                purpose  \n",
       "0        buying a house  \n",
       "1          buying a car  \n",
       "2        buying a house  \n",
       "3  additional education  \n",
       "4  to perform a wedding  "
      ]
     },
     "execution_count": 80,
     "metadata": {},
     "output_type": "execute_result"
    }
   ],
   "source": [
    "data = data.drop_duplicates().reset_index(drop=True)\n",
    "data.head()"
   ]
  },
  {
   "cell_type": "code",
   "execution_count": 81,
   "id": "db33e693",
   "metadata": {},
   "outputs": [
    {
     "name": "stdout",
     "output_type": "stream",
     "text": [
      "0\n"
     ]
    }
   ],
   "source": [
    "print(data.duplicated().sum())"
   ]
  },
  {
   "cell_type": "markdown",
   "id": "10a56bb9",
   "metadata": {},
   "source": [
    "### Categorization"
   ]
  },
  {
   "cell_type": "code",
   "execution_count": 82,
   "id": "ca0c2078",
   "metadata": {},
   "outputs": [],
   "source": [
    "def total_income_category(income):\n",
    "    if 0 <= income <= 30000:\n",
    "        return 'E'\n",
    "    elif 30001 <= income <= 50000:\n",
    "        return 'D'\n",
    "    elif 50001 <= income <= 200000:\n",
    "        return 'C'\n",
    "    elif 200001 <= income <= 1000000:\n",
    "        return 'B'\n",
    "    elif 1000001 <= income:\n",
    "        return 'A'\n",
    "    else:\n",
    "        raise ValueError(\"income is not a positive integer\")"
   ]
  },
  {
   "cell_type": "code",
   "execution_count": 83,
   "id": "4e480eb6",
   "metadata": {},
   "outputs": [
    {
     "data": {
      "text/html": [
       "<div>\n",
       "<style scoped>\n",
       "    .dataframe tbody tr th:only-of-type {\n",
       "        vertical-align: middle;\n",
       "    }\n",
       "\n",
       "    .dataframe tbody tr th {\n",
       "        vertical-align: top;\n",
       "    }\n",
       "\n",
       "    .dataframe thead th {\n",
       "        text-align: right;\n",
       "    }\n",
       "</style>\n",
       "<table border=\"1\" class=\"dataframe\">\n",
       "  <thead>\n",
       "    <tr style=\"text-align: right;\">\n",
       "      <th></th>\n",
       "      <th>children</th>\n",
       "      <th>days_employed</th>\n",
       "      <th>dob_years</th>\n",
       "      <th>education</th>\n",
       "      <th>education_id</th>\n",
       "      <th>family_status</th>\n",
       "      <th>family_status_id</th>\n",
       "      <th>gender</th>\n",
       "      <th>income_type</th>\n",
       "      <th>debt</th>\n",
       "      <th>total_income</th>\n",
       "      <th>purpose</th>\n",
       "      <th>total_income_category</th>\n",
       "    </tr>\n",
       "  </thead>\n",
       "  <tbody>\n",
       "    <tr>\n",
       "      <th>0</th>\n",
       "      <td>1</td>\n",
       "      <td>8437.673028</td>\n",
       "      <td>42</td>\n",
       "      <td>higher</td>\n",
       "      <td>0</td>\n",
       "      <td>married</td>\n",
       "      <td>0</td>\n",
       "      <td>F</td>\n",
       "      <td>employee</td>\n",
       "      <td>0</td>\n",
       "      <td>253875</td>\n",
       "      <td>buying a house</td>\n",
       "      <td>B</td>\n",
       "    </tr>\n",
       "    <tr>\n",
       "      <th>1</th>\n",
       "      <td>1</td>\n",
       "      <td>4024.803754</td>\n",
       "      <td>36</td>\n",
       "      <td>secondary</td>\n",
       "      <td>1</td>\n",
       "      <td>married</td>\n",
       "      <td>0</td>\n",
       "      <td>F</td>\n",
       "      <td>employee</td>\n",
       "      <td>0</td>\n",
       "      <td>112080</td>\n",
       "      <td>buying a car</td>\n",
       "      <td>C</td>\n",
       "    </tr>\n",
       "    <tr>\n",
       "      <th>2</th>\n",
       "      <td>0</td>\n",
       "      <td>5623.422610</td>\n",
       "      <td>33</td>\n",
       "      <td>secondary</td>\n",
       "      <td>1</td>\n",
       "      <td>married</td>\n",
       "      <td>0</td>\n",
       "      <td>M</td>\n",
       "      <td>employee</td>\n",
       "      <td>0</td>\n",
       "      <td>145885</td>\n",
       "      <td>buying a house</td>\n",
       "      <td>C</td>\n",
       "    </tr>\n",
       "    <tr>\n",
       "      <th>3</th>\n",
       "      <td>3</td>\n",
       "      <td>4124.747207</td>\n",
       "      <td>32</td>\n",
       "      <td>secondary</td>\n",
       "      <td>1</td>\n",
       "      <td>married</td>\n",
       "      <td>0</td>\n",
       "      <td>M</td>\n",
       "      <td>employee</td>\n",
       "      <td>0</td>\n",
       "      <td>267628</td>\n",
       "      <td>additional education</td>\n",
       "      <td>B</td>\n",
       "    </tr>\n",
       "    <tr>\n",
       "      <th>4</th>\n",
       "      <td>0</td>\n",
       "      <td>340266.072047</td>\n",
       "      <td>53</td>\n",
       "      <td>secondary</td>\n",
       "      <td>1</td>\n",
       "      <td>civil marriage</td>\n",
       "      <td>1</td>\n",
       "      <td>F</td>\n",
       "      <td>pensioner</td>\n",
       "      <td>0</td>\n",
       "      <td>158616</td>\n",
       "      <td>to perform a wedding</td>\n",
       "      <td>C</td>\n",
       "    </tr>\n",
       "  </tbody>\n",
       "</table>\n",
       "</div>"
      ],
      "text/plain": [
       "   children  days_employed  dob_years  education  education_id  \\\n",
       "0         1    8437.673028         42     higher             0   \n",
       "1         1    4024.803754         36  secondary             1   \n",
       "2         0    5623.422610         33  secondary             1   \n",
       "3         3    4124.747207         32  secondary             1   \n",
       "4         0  340266.072047         53  secondary             1   \n",
       "\n",
       "    family_status  family_status_id gender income_type  debt  total_income  \\\n",
       "0         married                 0      F    employee     0        253875   \n",
       "1         married                 0      F    employee     0        112080   \n",
       "2         married                 0      M    employee     0        145885   \n",
       "3         married                 0      M    employee     0        267628   \n",
       "4  civil marriage                 1      F   pensioner     0        158616   \n",
       "\n",
       "                purpose total_income_category  \n",
       "0        buying a house                     B  \n",
       "1          buying a car                     C  \n",
       "2        buying a house                     C  \n",
       "3  additional education                     B  \n",
       "4  to perform a wedding                     C  "
      ]
     },
     "execution_count": 83,
     "metadata": {},
     "output_type": "execute_result"
    }
   ],
   "source": [
    "data['total_income_category'] = data['total_income'].apply(total_income_category)\n",
    "data.head()"
   ]
  },
  {
   "cell_type": "code",
   "execution_count": 84,
   "id": "1bc35fcf",
   "metadata": {},
   "outputs": [
    {
     "data": {
      "text/plain": [
       "array(['buying a house', 'buying a car', 'additional education',\n",
       "       'to perform a wedding', 'housing transactions', 'education',\n",
       "       'to host a wedding', 'family home purchase',\n",
       "       'real estate purchase', 'buying commercial real estate',\n",
       "       'buying residential real estate', 'building your own real estate',\n",
       "       'real estate', 'building real estate', 'to buy a used car',\n",
       "       'to buy your own car', 'commercial real estate transactions',\n",
       "       'construction of residential real estate', 'housing',\n",
       "       'own real estate transactions', 'automobiles',\n",
       "       'getting an education', 'used car deal', 'educational attainment',\n",
       "       'automobile', 'wedding', 'further education',\n",
       "       'buying your own house', 'real estate transactions',\n",
       "       'getting higher education', 'own automobile',\n",
       "       'automobile transaction', 'specialized education',\n",
       "       'higher education', 'buying a house to rent', 'to buy a car',\n",
       "       'home renovation', 'to pursue higher education'], dtype=object)"
      ]
     },
     "execution_count": 84,
     "metadata": {},
     "output_type": "execute_result"
    }
   ],
   "source": [
    "data['purpose'].unique()"
   ]
  },
  {
   "cell_type": "code",
   "execution_count": 85,
   "id": "18dcb593",
   "metadata": {},
   "outputs": [],
   "source": [
    "def categorize_purpose(purpose):\n",
    "    if ' car' in purpose or 'automobile' in purpose:\n",
    "        return 'car operations'\n",
    "    elif 'hous' in purpose or 'home' in purpose or 'estate' in purpose:\n",
    "        return 'real estate transactions'\n",
    "    elif 'wedding' in purpose:\n",
    "        return 'wedding organization'\n",
    "    elif 'education' in purpose:\n",
    "        return 'educational attainment'\n",
    "    else:\n",
    "        print(purpose)\n",
    "        raise ValueError(\"unpredictable purpose\")"
   ]
  },
  {
   "cell_type": "code",
   "execution_count": 86,
   "id": "fec805cc",
   "metadata": {
    "scrolled": true
   },
   "outputs": [
    {
     "data": {
      "text/html": [
       "<div>\n",
       "<style scoped>\n",
       "    .dataframe tbody tr th:only-of-type {\n",
       "        vertical-align: middle;\n",
       "    }\n",
       "\n",
       "    .dataframe tbody tr th {\n",
       "        vertical-align: top;\n",
       "    }\n",
       "\n",
       "    .dataframe thead th {\n",
       "        text-align: right;\n",
       "    }\n",
       "</style>\n",
       "<table border=\"1\" class=\"dataframe\">\n",
       "  <thead>\n",
       "    <tr style=\"text-align: right;\">\n",
       "      <th></th>\n",
       "      <th>children</th>\n",
       "      <th>days_employed</th>\n",
       "      <th>dob_years</th>\n",
       "      <th>education</th>\n",
       "      <th>education_id</th>\n",
       "      <th>family_status</th>\n",
       "      <th>family_status_id</th>\n",
       "      <th>gender</th>\n",
       "      <th>income_type</th>\n",
       "      <th>debt</th>\n",
       "      <th>total_income</th>\n",
       "      <th>purpose</th>\n",
       "      <th>total_income_category</th>\n",
       "      <th>purpose_category</th>\n",
       "    </tr>\n",
       "  </thead>\n",
       "  <tbody>\n",
       "    <tr>\n",
       "      <th>0</th>\n",
       "      <td>1</td>\n",
       "      <td>8437.673028</td>\n",
       "      <td>42</td>\n",
       "      <td>higher</td>\n",
       "      <td>0</td>\n",
       "      <td>married</td>\n",
       "      <td>0</td>\n",
       "      <td>F</td>\n",
       "      <td>employee</td>\n",
       "      <td>0</td>\n",
       "      <td>253875</td>\n",
       "      <td>buying a house</td>\n",
       "      <td>B</td>\n",
       "      <td>real estate transactions</td>\n",
       "    </tr>\n",
       "    <tr>\n",
       "      <th>1</th>\n",
       "      <td>1</td>\n",
       "      <td>4024.803754</td>\n",
       "      <td>36</td>\n",
       "      <td>secondary</td>\n",
       "      <td>1</td>\n",
       "      <td>married</td>\n",
       "      <td>0</td>\n",
       "      <td>F</td>\n",
       "      <td>employee</td>\n",
       "      <td>0</td>\n",
       "      <td>112080</td>\n",
       "      <td>buying a car</td>\n",
       "      <td>C</td>\n",
       "      <td>car operations</td>\n",
       "    </tr>\n",
       "    <tr>\n",
       "      <th>2</th>\n",
       "      <td>0</td>\n",
       "      <td>5623.422610</td>\n",
       "      <td>33</td>\n",
       "      <td>secondary</td>\n",
       "      <td>1</td>\n",
       "      <td>married</td>\n",
       "      <td>0</td>\n",
       "      <td>M</td>\n",
       "      <td>employee</td>\n",
       "      <td>0</td>\n",
       "      <td>145885</td>\n",
       "      <td>buying a house</td>\n",
       "      <td>C</td>\n",
       "      <td>real estate transactions</td>\n",
       "    </tr>\n",
       "    <tr>\n",
       "      <th>3</th>\n",
       "      <td>3</td>\n",
       "      <td>4124.747207</td>\n",
       "      <td>32</td>\n",
       "      <td>secondary</td>\n",
       "      <td>1</td>\n",
       "      <td>married</td>\n",
       "      <td>0</td>\n",
       "      <td>M</td>\n",
       "      <td>employee</td>\n",
       "      <td>0</td>\n",
       "      <td>267628</td>\n",
       "      <td>additional education</td>\n",
       "      <td>B</td>\n",
       "      <td>educational attainment</td>\n",
       "    </tr>\n",
       "    <tr>\n",
       "      <th>4</th>\n",
       "      <td>0</td>\n",
       "      <td>340266.072047</td>\n",
       "      <td>53</td>\n",
       "      <td>secondary</td>\n",
       "      <td>1</td>\n",
       "      <td>civil marriage</td>\n",
       "      <td>1</td>\n",
       "      <td>F</td>\n",
       "      <td>pensioner</td>\n",
       "      <td>0</td>\n",
       "      <td>158616</td>\n",
       "      <td>to perform a wedding</td>\n",
       "      <td>C</td>\n",
       "      <td>wedding organization</td>\n",
       "    </tr>\n",
       "  </tbody>\n",
       "</table>\n",
       "</div>"
      ],
      "text/plain": [
       "   children  days_employed  dob_years  education  education_id  \\\n",
       "0         1    8437.673028         42     higher             0   \n",
       "1         1    4024.803754         36  secondary             1   \n",
       "2         0    5623.422610         33  secondary             1   \n",
       "3         3    4124.747207         32  secondary             1   \n",
       "4         0  340266.072047         53  secondary             1   \n",
       "\n",
       "    family_status  family_status_id gender income_type  debt  total_income  \\\n",
       "0         married                 0      F    employee     0        253875   \n",
       "1         married                 0      F    employee     0        112080   \n",
       "2         married                 0      M    employee     0        145885   \n",
       "3         married                 0      M    employee     0        267628   \n",
       "4  civil marriage                 1      F   pensioner     0        158616   \n",
       "\n",
       "                purpose total_income_category          purpose_category  \n",
       "0        buying a house                     B  real estate transactions  \n",
       "1          buying a car                     C            car operations  \n",
       "2        buying a house                     C  real estate transactions  \n",
       "3  additional education                     B    educational attainment  \n",
       "4  to perform a wedding                     C      wedding organization  "
      ]
     },
     "execution_count": 86,
     "metadata": {},
     "output_type": "execute_result"
    }
   ],
   "source": [
    "data['purpose_category'] = data['purpose'].apply(categorize_purpose)\n",
    "data.head()"
   ]
  },
  {
   "cell_type": "markdown",
   "id": "174a7e9e-51f7-4de8-8bec-e634ca7370f2",
   "metadata": {},
   "source": [
    "## Search for correlation between data and credit debts"
   ]
  },
  {
   "cell_type": "markdown",
   "id": "3a38c654-d1de-4934-b794-dda65e688a4e",
   "metadata": {},
   "source": [
    "Let's check if the `debt` column contains binary values or number of debts."
   ]
  },
  {
   "cell_type": "code",
   "execution_count": 87,
   "id": "3f8cbf37",
   "metadata": {
    "scrolled": true
   },
   "outputs": [
    {
     "name": "stdout",
     "output_type": "stream",
     "text": [
      "[0 1]\n"
     ]
    }
   ],
   "source": [
    "print(data['debt'].unique())"
   ]
  },
  {
   "cell_type": "markdown",
   "id": "502b1d7a",
   "metadata": {},
   "source": [
    "Binary. Now to the correlation."
   ]
  },
  {
   "cell_type": "markdown",
   "id": "1f3e1983",
   "metadata": {},
   "source": [
    "### Correlation between the number of children and the fact of indebtedness"
   ]
  },
  {
   "cell_type": "code",
   "execution_count": 88,
   "id": "c13aa48d",
   "metadata": {},
   "outputs": [
    {
     "data": {
      "text/html": [
       "<div>\n",
       "<style scoped>\n",
       "    .dataframe tbody tr th:only-of-type {\n",
       "        vertical-align: middle;\n",
       "    }\n",
       "\n",
       "    .dataframe tbody tr th {\n",
       "        vertical-align: top;\n",
       "    }\n",
       "\n",
       "    .dataframe thead th {\n",
       "        text-align: right;\n",
       "    }\n",
       "</style>\n",
       "<table border=\"1\" class=\"dataframe\">\n",
       "  <thead>\n",
       "    <tr style=\"text-align: right;\">\n",
       "      <th></th>\n",
       "      <th>count</th>\n",
       "      <th>sum</th>\n",
       "    </tr>\n",
       "    <tr>\n",
       "      <th>children</th>\n",
       "      <th></th>\n",
       "      <th></th>\n",
       "    </tr>\n",
       "  </thead>\n",
       "  <tbody>\n",
       "    <tr>\n",
       "      <th>0</th>\n",
       "      <td>14091</td>\n",
       "      <td>1063</td>\n",
       "    </tr>\n",
       "    <tr>\n",
       "      <th>1</th>\n",
       "      <td>4808</td>\n",
       "      <td>444</td>\n",
       "    </tr>\n",
       "    <tr>\n",
       "      <th>2</th>\n",
       "      <td>2052</td>\n",
       "      <td>194</td>\n",
       "    </tr>\n",
       "    <tr>\n",
       "      <th>3</th>\n",
       "      <td>330</td>\n",
       "      <td>27</td>\n",
       "    </tr>\n",
       "    <tr>\n",
       "      <th>4</th>\n",
       "      <td>41</td>\n",
       "      <td>4</td>\n",
       "    </tr>\n",
       "    <tr>\n",
       "      <th>5</th>\n",
       "      <td>9</td>\n",
       "      <td>0</td>\n",
       "    </tr>\n",
       "  </tbody>\n",
       "</table>\n",
       "</div>"
      ],
      "text/plain": [
       "          count   sum\n",
       "children             \n",
       "0         14091  1063\n",
       "1          4808   444\n",
       "2          2052   194\n",
       "3           330    27\n",
       "4            41     4\n",
       "5             9     0"
      ]
     },
     "execution_count": 88,
     "metadata": {},
     "output_type": "execute_result"
    }
   ],
   "source": [
    "data_by_children = data.groupby('children').agg({'debt': ['count', 'sum']})\n",
    "data_by_children.columns = data_by_children.columns.droplevel() # Multi-index is inconvenient here\n",
    "data_by_children"
   ]
  },
  {
   "cell_type": "markdown",
   "id": "f6cd19ea",
   "metadata": {},
   "source": [
    "Let's find the proportion of people in debt by the number of children."
   ]
  },
  {
   "cell_type": "code",
   "execution_count": 89,
   "id": "c16b0797",
   "metadata": {},
   "outputs": [
    {
     "name": "stdout",
     "output_type": "stream",
     "text": [
      "          count   sum     ratio    %\n",
      "children                            \n",
      "0         14091  1063  0.075438  7.5\n",
      "1          4808   444  0.092346  9.2\n",
      "2          2052   194  0.094542  9.5\n",
      "3           330    27  0.081818  8.2\n",
      "4            41     4  0.097561  9.8\n",
      "5             9     0  0.000000  0.0\n"
     ]
    }
   ],
   "source": [
    "data_by_children['ratio'] = data_by_children['sum'] / data_by_children['count']\n",
    "data_by_children['%'] = round(data_by_children['ratio'] * 100, 1)\n",
    "print(data_by_children)"
   ]
  },
  {
   "cell_type": "code",
   "execution_count": 90,
   "id": "3ee1d214",
   "metadata": {
    "scrolled": true
   },
   "outputs": [
    {
     "data": {
      "text/plain": [
       "children\n",
       "0    0.075438\n",
       "1    0.092346\n",
       "2    0.094542\n",
       "3    0.081818\n",
       "4    0.097561\n",
       "5    0.000000\n",
       "Name: debt, dtype: float64"
      ]
     },
     "execution_count": 90,
     "metadata": {},
     "output_type": "execute_result"
    }
   ],
   "source": [
    "data.groupby('children')['debt'].mean()"
   ]
  },
  {
   "cell_type": "code",
   "execution_count": 91,
   "id": "019f1776",
   "metadata": {},
   "outputs": [
    {
     "data": {
      "image/png": "[encoded data removed]",
      "text/plain": [
       "<Figure size 640x480 with 1 Axes>"
      ]
     },
     "metadata": {},
     "output_type": "display_data"
    }
   ],
   "source": [
    "sb.barplot(data=data_by_children, x=data_by_children.index, y='count', hue=data_by_children.index, palette='deep')\n",
    "plt.show()"
   ]
  },
  {
   "cell_type": "code",
   "execution_count": 92,
   "id": "87d5c53d",
   "metadata": {
    "scrolled": true
   },
   "outputs": [
    {
     "data": {
      "image/png": "[encoded data removed]",
      "text/plain": [
       "<Figure size 640x480 with 1 Axes>"
      ]
     },
     "metadata": {},
     "output_type": "display_data"
    }
   ],
   "source": [
    "sb.lineplot(data=data_by_children, x='children', y='%')\n",
    "plt.show()"
   ]
  },
  {
   "cell_type": "markdown",
   "id": "66921830",
   "metadata": {},
   "source": [
    "At first glance there could be a link (growth of more than 1.5%). The decline among clients with 3 children can be explained by the small sample size (330 people)."
   ]
  },
  {
   "cell_type": "code",
   "execution_count": 93,
   "id": "a6eb63a2",
   "metadata": {
    "scrolled": true
   },
   "outputs": [
    {
     "name": "stdout",
     "output_type": "stream",
     "text": [
      "          count   sum     ratio    %  count_ratio  sum_ratio\n",
      "children                                                    \n",
      "0         14091  1063  0.075438  7.5     0.660588   0.613741\n",
      "1          4808   444  0.092346  9.2     0.225400   0.256351\n",
      "2          2052   194  0.094542  9.5     0.096198   0.112009\n",
      "3           330    27  0.081818  8.2     0.015470   0.015589\n",
      "4            41     4  0.097561  9.8     0.001922   0.002309\n",
      "5             9     0  0.000000  0.0     0.000422   0.000000\n"
     ]
    }
   ],
   "source": [
    "data_by_children['count_ratio'] = data_by_children['count'] / data_by_children['count'].sum()\n",
    "data_by_children['sum_ratio'] = data_by_children['sum'] / data_by_children['sum'].sum()\n",
    "print(data_by_children)"
   ]
  },
  {
   "cell_type": "markdown",
   "id": "c0befacf-31c4-478e-9370-5c4168c1d884",
   "metadata": {},
   "source": [
    "It seems that borrowers without children repay debts more often than clients who have children. Apparently, this has a significant impact on the financial capacity of a potential client.  \n",
    "However, we do not have enough data on some groups of borrowers."
   ]
  },
  {
   "cell_type": "markdown",
   "id": "a7d660bd",
   "metadata": {},
   "source": [
    "### Correlation between marital status and the fact of indebtedness"
   ]
  },
  {
   "cell_type": "markdown",
   "id": "dd659ea6",
   "metadata": {},
   "source": [
    "Following the same steps."
   ]
  },
  {
   "cell_type": "code",
   "execution_count": 94,
   "id": "a4a08fdb",
   "metadata": {},
   "outputs": [
    {
     "name": "stdout",
     "output_type": "stream",
     "text": [
      "['married' 'civil marriage' 'widowed' 'divorced' 'single']\n"
     ]
    }
   ],
   "source": [
    "print(data['family_status'].unique())"
   ]
  },
  {
   "cell_type": "code",
   "execution_count": 95,
   "id": "8d4e7247",
   "metadata": {},
   "outputs": [
    {
     "name": "stdout",
     "output_type": "stream",
     "text": [
      "                count  sum\n",
      "family_status             \n",
      "civil marriage   4134  385\n",
      "divorced         1189   84\n",
      "married         12261  927\n",
      "single           2796  273\n",
      "widowed           951   63\n"
     ]
    }
   ],
   "source": [
    "data_by_status = data.groupby('family_status').agg({'debt': ['count', 'sum']})\n",
    "\n",
    "data_by_status.columns = data_by_status.columns.droplevel()\n",
    "print(data_by_status)"
   ]
  },
  {
   "cell_type": "code",
   "execution_count": 96,
   "id": "a9b28209",
   "metadata": {},
   "outputs": [
    {
     "name": "stdout",
     "output_type": "stream",
     "text": [
      "                count  sum     ratio    %\n",
      "family_status                            \n",
      "single           2796  273  0.097639  9.8\n",
      "civil marriage   4134  385  0.093130  9.3\n",
      "married         12261  927  0.075606  7.6\n",
      "divorced         1189   84  0.070648  7.1\n",
      "widowed           951   63  0.066246  6.6\n"
     ]
    }
   ],
   "source": [
    "data_by_status['ratio'] = data_by_status['sum'] / data_by_status['count']\n",
    "data_by_status['%'] = round(data_by_status['ratio'] * 100, 1)\n",
    "print(data_by_status.sort_values(by='%', ascending=False))"
   ]
  },
  {
   "cell_type": "markdown",
   "id": "7f8fdc09",
   "metadata": {},
   "source": [
    "The difference in numbers is significant, although I cannot find a logical distinction between `married` and `common-law marriage` (whereas the numbers do), so in my opinion there may not be a correlation.\n",
    "\n",
    "Even more contrasting is the difference between unmarried clients and divorced clients: the former repay loans 2.7% less often than the latter, although the difference between these groups is not obvious."
   ]
  },
  {
   "cell_type": "code",
   "execution_count": 97,
   "id": "d7ff5271",
   "metadata": {},
   "outputs": [
    {
     "name": "stdout",
     "output_type": "stream",
     "text": [
      "nan\n",
      "nan\n"
     ]
    }
   ],
   "source": [
    "print(data.loc[data['family_status'] == 'Не женат / не замужем']['dob_years'].mean())\n",
    "print(data.loc[data['family_status'] == 'в разводе']['dob_years'].mean())"
   ]
  },
  {
   "cell_type": "markdown",
   "id": "58894d06",
   "metadata": {},
   "source": [
    "The difference in average age is not so big."
   ]
  },
  {
   "cell_type": "code",
   "execution_count": 98,
   "id": "7e757f71",
   "metadata": {},
   "outputs": [
    {
     "name": "stdout",
     "output_type": "stream",
     "text": [
      "0.0\n"
     ]
    }
   ],
   "source": [
    "print(len(data.loc[(data['children'] == 0) & (data['family_status'] == 'женат / замужем')])\\\n",
    "          / len(data))"
   ]
  },
  {
   "cell_type": "markdown",
   "id": "089245e1",
   "metadata": {},
   "source": [
    "Let's note that more than a third of clients are married without children."
   ]
  },
  {
   "cell_type": "markdown",
   "id": "1ab193f2",
   "metadata": {},
   "source": [
    "### The relationship between income level and the fact of indebtedness"
   ]
  },
  {
   "cell_type": "markdown",
   "id": "a193d0c2",
   "metadata": {},
   "source": [
    "We will look for dependence by income categories."
   ]
  },
  {
   "cell_type": "code",
   "execution_count": 99,
   "id": "7d93eef4",
   "metadata": {},
   "outputs": [
    {
     "name": "stdout",
     "output_type": "stream",
     "text": [
      "Index(['children', 'days_employed', 'dob_years', 'education', 'education_id',\n",
      "       'family_status', 'family_status_id', 'gender', 'income_type', 'debt',\n",
      "       'total_income', 'purpose', 'total_income_category', 'purpose_category'],\n",
      "      dtype='object')\n"
     ]
    }
   ],
   "source": [
    "print(data.columns)"
   ]
  },
  {
   "cell_type": "code",
   "execution_count": 100,
   "id": "b9d7262d",
   "metadata": {},
   "outputs": [
    {
     "name": "stdout",
     "output_type": "stream",
     "text": [
      "                       count   sum\n",
      "total_income_category             \n",
      "A                         25     2\n",
      "B                       5014   354\n",
      "C                      15921  1353\n",
      "D                        349    21\n",
      "E                         22     2\n"
     ]
    }
   ],
   "source": [
    "data_by_income = data.groupby('total_income_category').agg({'debt': ['count', 'sum']})\n",
    "\n",
    "data_by_income.columns = data_by_income.columns.droplevel()\n",
    "print(data_by_income)"
   ]
  },
  {
   "cell_type": "code",
   "execution_count": 101,
   "id": "f4484052",
   "metadata": {},
   "outputs": [
    {
     "name": "stdout",
     "output_type": "stream",
     "text": [
      "                       count   sum     ratio    %\n",
      "total_income_category                            \n",
      "E                         22     2  0.090909  9.1\n",
      "C                      15921  1353  0.084982  8.5\n",
      "A                         25     2  0.080000  8.0\n",
      "B                       5014   354  0.070602  7.1\n",
      "D                        349    21  0.060172  6.0\n"
     ]
    }
   ],
   "source": [
    "data_by_income['ratio'] = data_by_income['sum'] / data_by_income['count']\n",
    "data_by_income['%'] = round(data_by_income['ratio'] * 100, 1)\n",
    "print(data_by_income.sort_values(by='%', ascending=False))"
   ]
  },
  {
   "cell_type": "code",
   "execution_count": 102,
   "id": "bdad5503",
   "metadata": {},
   "outputs": [
    {
     "data": {
      "image/png": "[encoded data removed]",
      "text/plain": [
       "<Figure size 640x480 with 1 Axes>"
      ]
     },
     "metadata": {},
     "output_type": "display_data"
    }
   ],
   "source": [
    "sb.barplot(data=data_by_income, x=data_by_income.index, y='%', hue=data_by_income.index, palette='deep')\n",
    "plt.show()"
   ]
  },
  {
   "cell_type": "markdown",
   "id": "847672aa",
   "metadata": {},
   "source": [
    "For the outermost categories, there is insufficient data to draw conclusions, but the difference between the 50,001 to 200,000 (8.5%) and 200,001 to 1,000,000 (7.1%) categories is plausible."
   ]
  },
  {
   "cell_type": "markdown",
   "id": "6f15364e",
   "metadata": {},
   "source": [
    "### The relationship between the purpose of taking a loan and the fact of its repayment"
   ]
  },
  {
   "cell_type": "code",
   "execution_count": 103,
   "id": "7e0b5e88",
   "metadata": {},
   "outputs": [
    {
     "name": "stdout",
     "output_type": "stream",
     "text": [
      "                          count  sum\n",
      "purpose_category                    \n",
      "car operations             4279  400\n",
      "educational attainment     3988  369\n",
      "real estate transactions  10751  780\n",
      "wedding organization       2313  183\n"
     ]
    }
   ],
   "source": [
    "data_by_purpose = data.groupby('purpose_category').agg({'debt': ['count', 'sum']})\n",
    "\n",
    "data_by_purpose.columns = data_by_purpose.columns.droplevel()\n",
    "print(data_by_purpose)"
   ]
  },
  {
   "cell_type": "code",
   "execution_count": 104,
   "id": "14ecedcb",
   "metadata": {},
   "outputs": [
    {
     "name": "stdout",
     "output_type": "stream",
     "text": [
      "                          count  sum     ratio    %\n",
      "purpose_category                                   \n",
      "car operations             4279  400  0.093480  9.3\n",
      "educational attainment     3988  369  0.092528  9.3\n",
      "wedding organization       2313  183  0.079118  7.9\n",
      "real estate transactions  10751  780  0.072551  7.3\n"
     ]
    }
   ],
   "source": [
    "data_by_purpose['ratio'] = data_by_purpose['sum'] / data_by_purpose['count']\n",
    "data_by_purpose['%'] = round(data_by_purpose['ratio'] * 100, 1)\n",
    "print(data_by_purpose.sort_values(by='%', ascending=False))"
   ]
  },
  {
   "cell_type": "code",
   "execution_count": 105,
   "id": "8ea34f4c",
   "metadata": {},
   "outputs": [
    {
     "data": {
      "image/png": "[encoded data removed]",
      "text/plain": [
       "<Figure size 640x480 with 1 Axes>"
      ]
     },
     "metadata": {},
     "output_type": "display_data"
    }
   ],
   "source": [
    "sb.barplot(data=data_by_purpose, y=data_by_purpose.index, x='%', orient='h', hue=data_by_purpose.index, palette='deep')\n",
    "plt.show()"
   ]
  },
  {
   "cell_type": "markdown",
   "id": "a8256c75",
   "metadata": {},
   "source": [
    "There is enough data here to draw conclusions for all categories. For example, loans for real estate transactions or weddings are repaid more often than loans for education or car purchases."
   ]
  },
  {
   "cell_type": "markdown",
   "id": "959da24f",
   "metadata": {},
   "source": [
    "### Possible causes of missing values in data"
   ]
  },
  {
   "cell_type": "markdown",
   "id": "c492f271",
   "metadata": {},
   "source": [
    "As shown [previously](#match), the gaps in income numbers and the labor history are completely overlapping, from which we can conclude that they are non-random."
   ]
  },
  {
   "cell_type": "code",
   "execution_count": 106,
   "id": "1c09f017",
   "metadata": {},
   "outputs": [
    {
     "name": "stdout",
     "output_type": "stream",
     "text": [
      "employee         1105\n",
      "partner           508\n",
      "pensioner         413\n",
      "civil servant     147\n",
      "entrepreneur        1\n",
      "Name: income_type, dtype: int64\n"
     ]
    }
   ],
   "source": [
    "print(gaps['income_type'].value_counts())"
   ]
  },
  {
   "cell_type": "markdown",
   "id": "6f75e333",
   "metadata": {},
   "source": [
    "As you can see, none of these people described themselves as unemployed."
   ]
  },
  {
   "cell_type": "code",
   "execution_count": 107,
   "id": "70b8157f",
   "metadata": {},
   "outputs": [
    {
     "name": "stdout",
     "output_type": "stream",
     "text": [
      "               count  sum\n",
      "income_type              \n",
      "civil servant    147    7\n",
      "employee        1105   98\n",
      "entrepreneur       1    0\n",
      "partner          508   30\n",
      "pensioner        413   35\n"
     ]
    }
   ],
   "source": [
    "data_with_gaps = gaps.groupby('income_type').agg({'debt': ['count', 'sum']})\n",
    "\n",
    "data_with_gaps.columns = data_with_gaps.columns.droplevel()\n",
    "print(data_with_gaps)"
   ]
  },
  {
   "cell_type": "code",
   "execution_count": 108,
   "id": "1253bc42",
   "metadata": {},
   "outputs": [
    {
     "name": "stdout",
     "output_type": "stream",
     "text": [
      "               count  sum     ratio    %\n",
      "income_type                             \n",
      "employee        1105   98  0.088688  8.9\n",
      "pensioner        413   35  0.084746  8.5\n",
      "partner          508   30  0.059055  5.9\n",
      "civil servant    147    7  0.047619  4.8\n",
      "entrepreneur       1    0  0.000000  0.0\n"
     ]
    }
   ],
   "source": [
    "data_with_gaps['ratio'] = data_with_gaps['sum'] / data_with_gaps['count']\n",
    "data_with_gaps['%'] = round(data_with_gaps['ratio'] * 100, 1)\n",
    "print(data_with_gaps.sort_values(by='%', ascending=False))"
   ]
  },
  {
   "cell_type": "markdown",
   "id": "2d335cd2",
   "metadata": {},
   "source": [
    "Loan default rates are no higher than average, so it's unlikely that income is not reported with any hidden intent."
   ]
  },
  {
   "cell_type": "markdown",
   "id": "bab79357",
   "metadata": {},
   "source": [
    "I think these customers just didn't want to list their place of employment (if that option is allowed by the bank)."
   ]
  },
  {
   "cell_type": "markdown",
   "id": "da7f61cf",
   "metadata": {},
   "source": [
    "According to the probable randomness of these people, the gaps are to be filled by the median value within each income group. The arithmetic mean works worse in this case, because even within a group there can be outliers, and the median is more robust than the mean."
   ]
  },
  {
   "cell_type": "markdown",
   "id": "68f72848",
   "metadata": {},
   "source": [
    "## Conclusions"
   ]
  },
  {
   "cell_type": "markdown",
   "id": "a4859226",
   "metadata": {},
   "source": [
    "1. Difference between childless clients and those who do have 1 or 2 children is present: 7.5% non-return vs. 9.2% and 9.5% respectively. There is not enough data to draw conclusions for clients with 3, 4 and 5 children.\n",
    "2. In terms of marital status, low arrears rates for widows/widowers and divorced (6.6% and 7.1%) can be noted. Elsewhere, a logical connection is poorly sought.\n",
    "3. People with incomes between 50,001 and 200,000 repay loans less often (8.5%) than people with incomes between 200,001 and 1,000,000. However, the nature of these **fractional** numbers is not clear to me. Especially for students and pensioners. I would check how the numbers of income and work experience were obtained and calculated.\n",
    "4. A fairly clear picture emerges in terms of the purpose of taking a loan. Car and education loans are repaid less often than wedding and real estate loans (9.3% and 9.3% vs. 7.9% and 7.3%)."
   ]
  },
  {
   "cell_type": "code",
   "execution_count": null,
   "id": "3129d389-53a6-408b-932d-17f500095235",
   "metadata": {},
   "outputs": [],
   "source": []
  }
 ],
 "metadata": {
  "ExecuteTimeLog": [
   {
    "duration": 1336,
    "start_time": "2023-01-03T16:17:58.518Z"
   },
   {
    "duration": 202,
    "start_time": "2023-01-03T16:17:59.857Z"
   },
   {
    "duration": 15,
    "start_time": "2023-01-03T16:18:00.061Z"
   },
   {
    "duration": 17,
    "start_time": "2023-01-03T16:18:00.077Z"
   },
   {
    "duration": 21,
    "start_time": "2023-01-03T16:18:00.097Z"
   },
   {
    "duration": 16,
    "start_time": "2023-01-03T16:18:00.120Z"
   },
   {
    "duration": 22,
    "start_time": "2023-01-03T16:18:00.138Z"
   },
   {
    "duration": 18,
    "start_time": "2023-01-03T16:18:00.162Z"
   },
   {
    "duration": 27,
    "start_time": "2023-01-03T16:18:00.181Z"
   },
   {
    "duration": 20,
    "start_time": "2023-01-03T16:18:00.209Z"
   },
   {
    "duration": 27,
    "start_time": "2023-01-03T16:18:00.230Z"
   },
   {
    "duration": 23,
    "start_time": "2023-01-03T16:18:00.259Z"
   },
   {
    "duration": 52,
    "start_time": "2023-01-03T16:18:00.284Z"
   },
   {
    "duration": 49,
    "start_time": "2023-01-03T16:18:00.339Z"
   },
   {
    "duration": 40,
    "start_time": "2023-01-03T16:18:00.389Z"
   },
   {
    "duration": 38,
    "start_time": "2023-01-03T16:18:00.431Z"
   },
   {
    "duration": 27,
    "start_time": "2023-01-03T16:18:00.470Z"
   },
   {
    "duration": 61,
    "start_time": "2023-01-03T16:18:00.499Z"
   },
   {
    "duration": 77,
    "start_time": "2023-01-03T16:18:00.561Z"
   },
   {
    "duration": 52,
    "start_time": "2023-01-03T16:18:00.639Z"
   },
   {
    "duration": 25,
    "start_time": "2023-01-03T16:18:00.693Z"
   },
   {
    "duration": 40,
    "start_time": "2023-01-03T16:18:00.720Z"
   },
   {
    "duration": 31,
    "start_time": "2023-01-03T16:18:00.762Z"
   },
   {
    "duration": 45,
    "start_time": "2023-01-03T16:18:00.795Z"
   },
   {
    "duration": 3,
    "start_time": "2023-01-03T16:18:00.842Z"
   },
   {
    "duration": 55,
    "start_time": "2023-01-03T16:18:00.847Z"
   },
   {
    "duration": 25,
    "start_time": "2023-01-03T16:18:00.904Z"
   },
   {
    "duration": 18,
    "start_time": "2023-01-03T16:18:00.930Z"
   },
   {
    "duration": 40,
    "start_time": "2023-01-03T16:18:00.950Z"
   },
   {
    "duration": 25,
    "start_time": "2023-01-03T16:18:00.992Z"
   },
   {
    "duration": 19,
    "start_time": "2023-01-03T16:18:01.018Z"
   },
   {
    "duration": 19,
    "start_time": "2023-01-03T16:18:01.039Z"
   },
   {
    "duration": 178,
    "start_time": "2023-01-03T16:18:01.060Z"
   },
   {
    "duration": 137,
    "start_time": "2023-01-03T16:18:01.240Z"
   },
   {
    "duration": 5,
    "start_time": "2023-01-03T16:18:01.379Z"
   },
   {
    "duration": 24,
    "start_time": "2023-01-03T16:18:01.385Z"
   },
   {
    "duration": 40,
    "start_time": "2023-01-03T16:18:01.411Z"
   },
   {
    "duration": 19,
    "start_time": "2023-01-03T16:18:01.452Z"
   },
   {
    "duration": 16,
    "start_time": "2023-01-03T16:18:01.473Z"
   },
   {
    "duration": 40,
    "start_time": "2023-01-03T16:18:01.491Z"
   },
   {
    "duration": 40,
    "start_time": "2023-01-03T16:18:01.535Z"
   },
   {
    "duration": 57,
    "start_time": "2023-01-03T16:18:01.576Z"
   },
   {
    "duration": 53,
    "start_time": "2023-01-03T16:18:01.635Z"
   },
   {
    "duration": 31,
    "start_time": "2023-01-03T16:18:01.689Z"
   },
   {
    "duration": 137,
    "start_time": "2023-01-03T16:18:01.722Z"
   },
   {
    "duration": 10,
    "start_time": "2023-01-03T16:18:01.860Z"
   },
   {
    "duration": 39,
    "start_time": "2023-01-03T16:18:01.871Z"
   },
   {
    "duration": 138,
    "start_time": "2023-01-03T16:18:01.912Z"
   },
   {
    "duration": 5,
    "start_time": "2023-01-03T16:18:02.052Z"
   },
   {
    "duration": 40,
    "start_time": "2023-01-03T16:18:02.059Z"
   },
   {
    "duration": 16,
    "start_time": "2023-01-03T16:18:02.101Z"
   },
   {
    "duration": 53,
    "start_time": "2023-01-10T11:05:12.018Z"
   },
   {
    "duration": 1509,
    "start_time": "2023-01-10T11:05:21.051Z"
   },
   {
    "duration": 151,
    "start_time": "2023-01-10T11:05:22.563Z"
   },
   {
    "duration": 0,
    "start_time": "2023-01-10T11:05:22.719Z"
   },
   {
    "duration": 0,
    "start_time": "2023-01-10T11:05:22.721Z"
   },
   {
    "duration": 0,
    "start_time": "2023-01-10T11:05:22.722Z"
   },
   {
    "duration": 0,
    "start_time": "2023-01-10T11:05:22.724Z"
   },
   {
    "duration": 0,
    "start_time": "2023-01-10T11:05:22.725Z"
   },
   {
    "duration": 0,
    "start_time": "2023-01-10T11:05:22.727Z"
   },
   {
    "duration": 0,
    "start_time": "2023-01-10T11:05:22.728Z"
   },
   {
    "duration": 0,
    "start_time": "2023-01-10T11:05:22.730Z"
   },
   {
    "duration": 0,
    "start_time": "2023-01-10T11:05:22.732Z"
   },
   {
    "duration": 0,
    "start_time": "2023-01-10T11:05:22.733Z"
   },
   {
    "duration": 0,
    "start_time": "2023-01-10T11:05:22.734Z"
   },
   {
    "duration": 0,
    "start_time": "2023-01-10T11:05:22.755Z"
   },
   {
    "duration": 0,
    "start_time": "2023-01-10T11:05:22.757Z"
   },
   {
    "duration": 0,
    "start_time": "2023-01-10T11:05:22.759Z"
   },
   {
    "duration": 0,
    "start_time": "2023-01-10T11:05:22.761Z"
   },
   {
    "duration": 0,
    "start_time": "2023-01-10T11:05:22.762Z"
   },
   {
    "duration": 1,
    "start_time": "2023-01-10T11:05:22.763Z"
   },
   {
    "duration": 0,
    "start_time": "2023-01-10T11:05:22.765Z"
   },
   {
    "duration": 0,
    "start_time": "2023-01-10T11:05:22.767Z"
   },
   {
    "duration": 0,
    "start_time": "2023-01-10T11:05:22.769Z"
   },
   {
    "duration": 0,
    "start_time": "2023-01-10T11:05:22.770Z"
   },
   {
    "duration": 0,
    "start_time": "2023-01-10T11:05:22.772Z"
   },
   {
    "duration": 0,
    "start_time": "2023-01-10T11:05:22.773Z"
   },
   {
    "duration": 0,
    "start_time": "2023-01-10T11:05:22.775Z"
   },
   {
    "duration": 1,
    "start_time": "2023-01-10T11:05:22.776Z"
   },
   {
    "duration": 0,
    "start_time": "2023-01-10T11:05:22.778Z"
   },
   {
    "duration": 0,
    "start_time": "2023-01-10T11:05:22.780Z"
   },
   {
    "duration": 0,
    "start_time": "2023-01-10T11:05:22.782Z"
   },
   {
    "duration": 0,
    "start_time": "2023-01-10T11:05:22.783Z"
   },
   {
    "duration": 0,
    "start_time": "2023-01-10T11:05:22.785Z"
   },
   {
    "duration": 1,
    "start_time": "2023-01-10T11:05:22.786Z"
   },
   {
    "duration": 0,
    "start_time": "2023-01-10T11:05:22.788Z"
   },
   {
    "duration": 0,
    "start_time": "2023-01-10T11:05:22.790Z"
   },
   {
    "duration": 0,
    "start_time": "2023-01-10T11:05:22.855Z"
   },
   {
    "duration": 0,
    "start_time": "2023-01-10T11:05:22.857Z"
   },
   {
    "duration": 0,
    "start_time": "2023-01-10T11:05:22.859Z"
   },
   {
    "duration": 0,
    "start_time": "2023-01-10T11:05:22.861Z"
   },
   {
    "duration": 0,
    "start_time": "2023-01-10T11:05:22.862Z"
   },
   {
    "duration": 0,
    "start_time": "2023-01-10T11:05:22.864Z"
   },
   {
    "duration": 0,
    "start_time": "2023-01-10T11:05:22.866Z"
   },
   {
    "duration": 0,
    "start_time": "2023-01-10T11:05:22.867Z"
   },
   {
    "duration": 0,
    "start_time": "2023-01-10T11:05:22.869Z"
   },
   {
    "duration": 0,
    "start_time": "2023-01-10T11:05:22.870Z"
   },
   {
    "duration": 0,
    "start_time": "2023-01-10T11:05:22.872Z"
   },
   {
    "duration": 0,
    "start_time": "2023-01-10T11:05:22.874Z"
   },
   {
    "duration": 0,
    "start_time": "2023-01-10T11:05:22.876Z"
   },
   {
    "duration": 0,
    "start_time": "2023-01-10T11:05:22.877Z"
   },
   {
    "duration": 0,
    "start_time": "2023-01-10T11:05:22.879Z"
   },
   {
    "duration": 0,
    "start_time": "2023-01-10T11:05:22.880Z"
   },
   {
    "duration": 0,
    "start_time": "2023-01-10T11:05:22.881Z"
   },
   {
    "duration": 743,
    "start_time": "2023-01-10T11:06:09.868Z"
   },
   {
    "duration": 1291,
    "start_time": "2023-01-10T11:06:18.181Z"
   },
   {
    "duration": 86,
    "start_time": "2023-01-10T11:06:19.474Z"
   },
   {
    "duration": 629,
    "start_time": "2023-01-10T11:06:19.562Z"
   },
   {
    "duration": 0,
    "start_time": "2023-01-10T11:06:20.194Z"
   },
   {
    "duration": 0,
    "start_time": "2023-01-10T11:06:20.195Z"
   },
   {
    "duration": 0,
    "start_time": "2023-01-10T11:06:20.196Z"
   },
   {
    "duration": 0,
    "start_time": "2023-01-10T11:06:20.198Z"
   },
   {
    "duration": 0,
    "start_time": "2023-01-10T11:06:20.199Z"
   },
   {
    "duration": 0,
    "start_time": "2023-01-10T11:06:20.200Z"
   },
   {
    "duration": 0,
    "start_time": "2023-01-10T11:06:20.201Z"
   },
   {
    "duration": 0,
    "start_time": "2023-01-10T11:06:20.202Z"
   },
   {
    "duration": 0,
    "start_time": "2023-01-10T11:06:20.203Z"
   },
   {
    "duration": 0,
    "start_time": "2023-01-10T11:06:20.205Z"
   },
   {
    "duration": 1,
    "start_time": "2023-01-10T11:06:20.205Z"
   },
   {
    "duration": 0,
    "start_time": "2023-01-10T11:06:20.207Z"
   },
   {
    "duration": 0,
    "start_time": "2023-01-10T11:06:20.208Z"
   },
   {
    "duration": 0,
    "start_time": "2023-01-10T11:06:20.209Z"
   },
   {
    "duration": 0,
    "start_time": "2023-01-10T11:06:20.210Z"
   },
   {
    "duration": 0,
    "start_time": "2023-01-10T11:06:20.211Z"
   },
   {
    "duration": 0,
    "start_time": "2023-01-10T11:06:20.212Z"
   },
   {
    "duration": 0,
    "start_time": "2023-01-10T11:06:20.213Z"
   },
   {
    "duration": 0,
    "start_time": "2023-01-10T11:06:20.214Z"
   },
   {
    "duration": 0,
    "start_time": "2023-01-10T11:06:20.215Z"
   },
   {
    "duration": 0,
    "start_time": "2023-01-10T11:06:20.216Z"
   },
   {
    "duration": 0,
    "start_time": "2023-01-10T11:06:20.217Z"
   },
   {
    "duration": 0,
    "start_time": "2023-01-10T11:06:20.218Z"
   },
   {
    "duration": 0,
    "start_time": "2023-01-10T11:06:20.219Z"
   },
   {
    "duration": 0,
    "start_time": "2023-01-10T11:06:20.254Z"
   },
   {
    "duration": 0,
    "start_time": "2023-01-10T11:06:20.256Z"
   },
   {
    "duration": 0,
    "start_time": "2023-01-10T11:06:20.257Z"
   },
   {
    "duration": 0,
    "start_time": "2023-01-10T11:06:20.258Z"
   },
   {
    "duration": 0,
    "start_time": "2023-01-10T11:06:20.259Z"
   },
   {
    "duration": 0,
    "start_time": "2023-01-10T11:06:20.260Z"
   },
   {
    "duration": 0,
    "start_time": "2023-01-10T11:06:20.261Z"
   },
   {
    "duration": 0,
    "start_time": "2023-01-10T11:06:20.262Z"
   },
   {
    "duration": 0,
    "start_time": "2023-01-10T11:06:20.263Z"
   },
   {
    "duration": 0,
    "start_time": "2023-01-10T11:06:20.264Z"
   },
   {
    "duration": 0,
    "start_time": "2023-01-10T11:06:20.265Z"
   },
   {
    "duration": 0,
    "start_time": "2023-01-10T11:06:20.266Z"
   },
   {
    "duration": 0,
    "start_time": "2023-01-10T11:06:20.267Z"
   },
   {
    "duration": 0,
    "start_time": "2023-01-10T11:06:20.268Z"
   },
   {
    "duration": 0,
    "start_time": "2023-01-10T11:06:20.269Z"
   },
   {
    "duration": 0,
    "start_time": "2023-01-10T11:06:20.270Z"
   },
   {
    "duration": 0,
    "start_time": "2023-01-10T11:06:20.271Z"
   },
   {
    "duration": 0,
    "start_time": "2023-01-10T11:06:20.272Z"
   },
   {
    "duration": 0,
    "start_time": "2023-01-10T11:06:20.274Z"
   },
   {
    "duration": 0,
    "start_time": "2023-01-10T11:06:20.275Z"
   },
   {
    "duration": 0,
    "start_time": "2023-01-10T11:06:20.276Z"
   },
   {
    "duration": 0,
    "start_time": "2023-01-10T11:06:20.277Z"
   },
   {
    "duration": 0,
    "start_time": "2023-01-10T11:06:20.278Z"
   },
   {
    "duration": 0,
    "start_time": "2023-01-10T11:06:20.279Z"
   },
   {
    "duration": 0,
    "start_time": "2023-01-10T11:06:20.281Z"
   },
   {
    "duration": 106,
    "start_time": "2023-01-10T11:11:39.599Z"
   },
   {
    "duration": 3,
    "start_time": "2023-01-10T11:12:37.368Z"
   },
   {
    "duration": 105,
    "start_time": "2023-01-10T11:12:37.374Z"
   },
   {
    "duration": 79,
    "start_time": "2023-01-10T11:12:37.480Z"
   },
   {
    "duration": 18,
    "start_time": "2023-01-10T11:12:37.562Z"
   },
   {
    "duration": 24,
    "start_time": "2023-01-10T11:12:37.582Z"
   },
   {
    "duration": 10,
    "start_time": "2023-01-10T11:12:37.608Z"
   },
   {
    "duration": 20,
    "start_time": "2023-01-10T11:12:37.619Z"
   },
   {
    "duration": 19,
    "start_time": "2023-01-10T11:12:37.641Z"
   },
   {
    "duration": 23,
    "start_time": "2023-01-10T11:12:37.663Z"
   },
   {
    "duration": 11,
    "start_time": "2023-01-10T11:12:37.688Z"
   },
   {
    "duration": 8,
    "start_time": "2023-01-10T11:12:37.701Z"
   },
   {
    "duration": 22,
    "start_time": "2023-01-10T11:12:37.711Z"
   },
   {
    "duration": 12,
    "start_time": "2023-01-10T11:12:43.718Z"
   },
   {
    "duration": 8,
    "start_time": "2023-01-10T11:15:36.359Z"
   },
   {
    "duration": 110,
    "start_time": "2023-01-10T11:15:53.932Z"
   },
   {
    "duration": 8,
    "start_time": "2023-01-10T11:16:08.555Z"
   },
   {
    "duration": 13,
    "start_time": "2023-01-10T11:17:19.768Z"
   },
   {
    "duration": 1138,
    "start_time": "2023-01-10T11:24:57.376Z"
   },
   {
    "duration": 83,
    "start_time": "2023-01-10T11:24:58.516Z"
   },
   {
    "duration": 65,
    "start_time": "2023-01-10T11:24:58.601Z"
   },
   {
    "duration": 16,
    "start_time": "2023-01-10T11:24:58.668Z"
   },
   {
    "duration": 10,
    "start_time": "2023-01-10T11:24:58.685Z"
   },
   {
    "duration": 8,
    "start_time": "2023-01-10T11:24:58.698Z"
   },
   {
    "duration": 4,
    "start_time": "2023-01-10T11:24:58.708Z"
   },
   {
    "duration": 7,
    "start_time": "2023-01-10T11:24:58.714Z"
   },
   {
    "duration": 7,
    "start_time": "2023-01-10T11:24:58.754Z"
   },
   {
    "duration": 11,
    "start_time": "2023-01-10T11:24:58.764Z"
   },
   {
    "duration": 19,
    "start_time": "2023-01-10T11:24:58.777Z"
   },
   {
    "duration": 7,
    "start_time": "2023-01-10T11:24:58.798Z"
   },
   {
    "duration": 47,
    "start_time": "2023-01-10T11:24:58.808Z"
   },
   {
    "duration": 12,
    "start_time": "2023-01-10T11:24:58.857Z"
   },
   {
    "duration": 14,
    "start_time": "2023-01-10T11:24:58.870Z"
   },
   {
    "duration": 6,
    "start_time": "2023-01-10T11:24:58.886Z"
   },
   {
    "duration": 17,
    "start_time": "2023-01-10T11:24:58.893Z"
   },
   {
    "duration": 13,
    "start_time": "2023-01-10T11:24:58.911Z"
   },
   {
    "duration": 7,
    "start_time": "2023-01-10T11:24:58.956Z"
   },
   {
    "duration": 27,
    "start_time": "2023-01-10T11:24:58.965Z"
   },
   {
    "duration": 13,
    "start_time": "2023-01-10T11:24:58.994Z"
   },
   {
    "duration": 6,
    "start_time": "2023-01-10T11:24:59.009Z"
   },
   {
    "duration": 46,
    "start_time": "2023-01-10T11:24:59.017Z"
   },
   {
    "duration": 17,
    "start_time": "2023-01-10T11:24:59.065Z"
   },
   {
    "duration": 25,
    "start_time": "2023-01-10T11:24:59.084Z"
   },
   {
    "duration": 4,
    "start_time": "2023-01-10T11:24:59.110Z"
   },
   {
    "duration": 47,
    "start_time": "2023-01-10T11:24:59.115Z"
   },
   {
    "duration": 7,
    "start_time": "2023-01-10T11:24:59.166Z"
   },
   {
    "duration": 6,
    "start_time": "2023-01-10T11:24:59.175Z"
   },
   {
    "duration": 24,
    "start_time": "2023-01-10T11:24:59.182Z"
   },
   {
    "duration": 4,
    "start_time": "2023-01-10T11:24:59.208Z"
   },
   {
    "duration": 10,
    "start_time": "2023-01-10T11:24:59.213Z"
   },
   {
    "duration": 7,
    "start_time": "2023-01-10T11:24:59.255Z"
   },
   {
    "duration": 158,
    "start_time": "2023-01-10T11:24:59.264Z"
   },
   {
    "duration": 136,
    "start_time": "2023-01-10T11:24:59.424Z"
   },
   {
    "duration": 4,
    "start_time": "2023-01-10T11:24:59.562Z"
   },
   {
    "duration": 12,
    "start_time": "2023-01-10T11:24:59.568Z"
   },
   {
    "duration": 8,
    "start_time": "2023-01-10T11:24:59.582Z"
   },
   {
    "duration": 27,
    "start_time": "2023-01-10T11:24:59.591Z"
   },
   {
    "duration": 9,
    "start_time": "2023-01-10T11:24:59.619Z"
   },
   {
    "duration": 32,
    "start_time": "2023-01-10T11:24:59.629Z"
   },
   {
    "duration": 7,
    "start_time": "2023-01-10T11:24:59.662Z"
   },
   {
    "duration": 8,
    "start_time": "2023-01-10T11:24:59.671Z"
   },
   {
    "duration": 11,
    "start_time": "2023-01-10T11:24:59.680Z"
   },
   {
    "duration": 10,
    "start_time": "2023-01-10T11:24:59.693Z"
   },
   {
    "duration": 141,
    "start_time": "2023-01-10T11:24:59.704Z"
   },
   {
    "duration": 10,
    "start_time": "2023-01-10T11:24:59.854Z"
   },
   {
    "duration": 20,
    "start_time": "2023-01-10T11:24:59.866Z"
   },
   {
    "duration": 154,
    "start_time": "2023-01-10T11:24:59.888Z"
   },
   {
    "duration": 11,
    "start_time": "2023-01-10T11:25:00.044Z"
   },
   {
    "duration": 31,
    "start_time": "2023-01-10T11:25:00.057Z"
   },
   {
    "duration": 10,
    "start_time": "2023-01-10T11:25:00.091Z"
   },
   {
    "duration": 22,
    "start_time": "2023-01-10T11:25:30.414Z"
   },
   {
    "duration": 10,
    "start_time": "2023-01-10T11:27:16.375Z"
   },
   {
    "duration": 5,
    "start_time": "2023-01-10T11:27:33.883Z"
   },
   {
    "duration": 1241,
    "start_time": "2023-01-10T11:27:54.211Z"
   },
   {
    "duration": 83,
    "start_time": "2023-01-10T11:27:55.456Z"
   },
   {
    "duration": 70,
    "start_time": "2023-01-10T11:27:55.540Z"
   },
   {
    "duration": 17,
    "start_time": "2023-01-10T11:27:55.612Z"
   },
   {
    "duration": 15,
    "start_time": "2023-01-10T11:27:55.631Z"
   },
   {
    "duration": 20,
    "start_time": "2023-01-10T11:27:55.654Z"
   },
   {
    "duration": 24,
    "start_time": "2023-01-10T11:27:55.676Z"
   },
   {
    "duration": 36,
    "start_time": "2023-01-10T11:27:55.702Z"
   },
   {
    "duration": 11,
    "start_time": "2023-01-10T11:27:55.740Z"
   },
   {
    "duration": 25,
    "start_time": "2023-01-10T11:27:55.754Z"
   },
   {
    "duration": 27,
    "start_time": "2023-01-10T11:27:55.782Z"
   },
   {
    "duration": 26,
    "start_time": "2023-01-10T11:27:55.811Z"
   },
   {
    "duration": 17,
    "start_time": "2023-01-10T11:27:55.839Z"
   },
   {
    "duration": 43,
    "start_time": "2023-01-10T11:27:55.858Z"
   },
   {
    "duration": 7,
    "start_time": "2023-01-10T11:27:55.903Z"
   },
   {
    "duration": 8,
    "start_time": "2023-01-10T11:27:55.911Z"
   },
   {
    "duration": 33,
    "start_time": "2023-01-10T11:27:55.921Z"
   },
   {
    "duration": 22,
    "start_time": "2023-01-10T11:27:55.955Z"
   },
   {
    "duration": 12,
    "start_time": "2023-01-10T11:27:55.979Z"
   },
   {
    "duration": 30,
    "start_time": "2023-01-10T11:27:55.993Z"
   },
   {
    "duration": 27,
    "start_time": "2023-01-10T11:27:56.025Z"
   },
   {
    "duration": 4,
    "start_time": "2023-01-10T11:27:56.055Z"
   },
   {
    "duration": 30,
    "start_time": "2023-01-10T11:27:56.061Z"
   },
   {
    "duration": 18,
    "start_time": "2023-01-10T11:27:56.093Z"
   },
   {
    "duration": 45,
    "start_time": "2023-01-10T11:27:56.113Z"
   },
   {
    "duration": 4,
    "start_time": "2023-01-10T11:27:56.160Z"
   },
   {
    "duration": 41,
    "start_time": "2023-01-10T11:27:56.166Z"
   },
   {
    "duration": 5,
    "start_time": "2023-01-10T11:27:56.210Z"
   },
   {
    "duration": 5,
    "start_time": "2023-01-10T11:27:56.217Z"
   },
   {
    "duration": 51,
    "start_time": "2023-01-10T11:27:56.224Z"
   },
   {
    "duration": 8,
    "start_time": "2023-01-10T11:27:56.277Z"
   },
   {
    "duration": 19,
    "start_time": "2023-01-10T11:27:56.287Z"
   },
   {
    "duration": 15,
    "start_time": "2023-01-10T11:27:56.308Z"
   },
   {
    "duration": 172,
    "start_time": "2023-01-10T11:27:56.325Z"
   },
   {
    "duration": 158,
    "start_time": "2023-01-10T11:27:56.499Z"
   },
   {
    "duration": 4,
    "start_time": "2023-01-10T11:27:56.659Z"
   },
   {
    "duration": 31,
    "start_time": "2023-01-10T11:27:56.665Z"
   },
   {
    "duration": 29,
    "start_time": "2023-01-10T11:27:56.698Z"
   },
   {
    "duration": 27,
    "start_time": "2023-01-10T11:27:56.729Z"
   },
   {
    "duration": 35,
    "start_time": "2023-01-10T11:27:56.758Z"
   },
   {
    "duration": 40,
    "start_time": "2023-01-10T11:27:56.794Z"
   },
   {
    "duration": 28,
    "start_time": "2023-01-10T11:27:56.835Z"
   },
   {
    "duration": 37,
    "start_time": "2023-01-10T11:27:56.865Z"
   },
   {
    "duration": 28,
    "start_time": "2023-01-10T11:27:56.904Z"
   },
   {
    "duration": 31,
    "start_time": "2023-01-10T11:27:56.934Z"
   },
   {
    "duration": 126,
    "start_time": "2023-01-10T11:27:56.967Z"
   },
   {
    "duration": 10,
    "start_time": "2023-01-10T11:27:57.095Z"
   },
   {
    "duration": 9,
    "start_time": "2023-01-10T11:27:57.107Z"
   },
   {
    "duration": 144,
    "start_time": "2023-01-10T11:27:57.118Z"
   },
   {
    "duration": 5,
    "start_time": "2023-01-10T11:27:57.264Z"
   },
   {
    "duration": 26,
    "start_time": "2023-01-10T11:27:57.271Z"
   },
   {
    "duration": 25,
    "start_time": "2023-01-10T11:27:57.299Z"
   },
   {
    "duration": 22,
    "start_time": "2023-01-10T11:30:09.786Z"
   },
   {
    "duration": 25,
    "start_time": "2023-01-10T11:30:21.266Z"
   },
   {
    "duration": 22,
    "start_time": "2023-01-10T11:30:36.472Z"
   },
   {
    "duration": 40,
    "start_time": "2023-01-10T11:30:55.851Z"
   },
   {
    "duration": 34,
    "start_time": "2023-01-10T11:31:18.053Z"
   },
   {
    "duration": 47,
    "start_time": "2023-01-10T11:35:52.643Z"
   },
   {
    "duration": 27,
    "start_time": "2023-01-10T11:36:51.095Z"
   },
   {
    "duration": 7,
    "start_time": "2023-01-10T11:37:01.219Z"
   },
   {
    "duration": 30,
    "start_time": "2023-01-10T11:37:24.779Z"
   },
   {
    "duration": 12,
    "start_time": "2023-01-10T11:42:08.731Z"
   },
   {
    "duration": 7,
    "start_time": "2023-01-10T11:43:23.065Z"
   }
  ],
  "kernelspec": {
   "display_name": "Python 3 (ipykernel)",
   "language": "python",
   "name": "python3"
  },
  "language_info": {
   "codemirror_mode": {
    "name": "ipython",
    "version": 3
   },
   "file_extension": ".py",
   "mimetype": "text/x-python",
   "name": "python",
   "nbconvert_exporter": "python",
   "pygments_lexer": "ipython3",
   "version": "3.9.7"
  },
  "toc": {
   "base_numbering": 1,
   "nav_menu": {
    "height": "10px",
    "width": "160px"
   },
   "number_sections": true,
   "sideBar": false,
   "skip_h1_title": true,
   "title_cell": "Table of Contents",
   "title_sidebar": "Contents",
   "toc_cell": true,
   "toc_position": {
    "height": "1058px",
    "left": "10px",
    "top": "150px",
    "width": "368.594px"
   },
   "toc_section_display": true,
   "toc_window_display": false
  }
 },
 "nbformat": 4,
 "nbformat_minor": 5
}
